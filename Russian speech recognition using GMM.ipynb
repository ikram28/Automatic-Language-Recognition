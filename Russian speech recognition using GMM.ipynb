{
 "cells": [
  {
   "cell_type": "markdown",
   "id": "33b441db",
   "metadata": {},
   "source": [
    "# Importing necassary libraries"
   ]
  },
  {
   "cell_type": "code",
   "execution_count": 1,
   "id": "0967e058",
   "metadata": {},
   "outputs": [],
   "source": [
    "import numpy as np\n",
    "import scipy.io\n",
    "from python_speech_features import mfcc\n",
    "import matplotlib.pyplot as plt\n",
    "import IPython.display as ipd\n",
    "import os\n",
    "from sklearn.model_selection import train_test_split\n",
    "from sklearn.utils import shuffle\n",
    "import soundfile as sf\n",
    "import random\n",
    "from sklearn.mixture import GaussianMixture\n",
    "from sklearn.preprocessing import StandardScaler\n",
    "import joblib\n",
    "import math\n",
    "import statistics\n",
    "\n",
    "\n"
   ]
  },
  {
   "cell_type": "markdown",
   "id": "9f70050f",
   "metadata": {},
   "source": [
    "# Defining the function that reads the audios from a given path using scipy and returns 3 lists : audios, freqs, filepaths"
   ]
  },
  {
   "cell_type": "code",
   "execution_count": 2,
   "id": "3b439b37",
   "metadata": {},
   "outputs": [],
   "source": [
    "def read_audios(path):\n",
    "    audios = []\n",
    "    freqs = []\n",
    "    filepaths = []\n",
    "    #walking through the directory that contains the dataset and reading each file that has the .wav extension\n",
    "    for dp, dn, filenames in os.walk(path):\n",
    "        for filename in filenames:\n",
    "            if filename.endswith('.wav'):\n",
    "                filepath = os.path.join(dp, filename)\n",
    "                filepaths.append(filepath)\n",
    "                with open(filepath, \"rb\") as f:\n",
    "                    # load the audio using scipy\n",
    "                    freq, data = scipy.io.wavfile.read(f, mmap=False)\n",
    "                    # append the data and frequency to the respective lists\n",
    "                    audios.append(data)\n",
    "                    freqs.append(freq)\n",
    "    return audios, freqs, filepaths\n",
    "    "
   ]
  },
  {
   "cell_type": "markdown",
   "id": "49ac9df8",
   "metadata": {},
   "source": [
    "# Defining the function that extracts the mfcc features then removes the frames of silence finally it saves the mffc features into a .txt file according to gender "
   ]
  },
  {
   "cell_type": "code",
   "execution_count": 1,
   "id": "bb308ced",
   "metadata": {},
   "outputs": [],
   "source": [
    "def extractMfccs_RemoveSilence_saveMfccs(audios,freqs,filepaths, directory):\n",
    "    mfccs = []\n",
    " \n",
    "    for audio, freq, filepath in zip(audios, freqs,filepaths):\n",
    "        # extract the MFCC features\n",
    "        mfcc_features = mfcc(audio, freq, winlen=0.025, winstep=0.01, numcep=13, nfilt=26, nfft= 2048, lowfreq=0,\n",
    "                         highfreq=None, preemph=0.97, ceplifter=22, appendEnergy=False)\n",
    "        \n",
    "        # calculate the energy\n",
    "        energy = np.sum(mfcc_features**2, axis=1)\n",
    "        # calculate the threshold for silence\n",
    "        threshold = np.mean(energy) * 0.4\n",
    "        #removing silence frames from mfccs\n",
    "        voiced_indices = np.where(energy > threshold)[0]\n",
    "        mfccs_voiced = mfcc_features[voiced_indices,:]\n",
    "        mfccs.append(mfccs_voiced)\n",
    "        \n",
    "        # print the shape of the MFCCs before and after removing silence\n",
    "        print(f\"MFCCs before removing silence: {mfcc_features.shape}\")\n",
    "        print(f\"MFCCs after removing silence: {mfccs_voiced.shape}\")\n",
    "        \n",
    "       #saving mffcs \n",
    "       # extract the gender information from the file name\n",
    "        gender = None\n",
    "        if 'Hommes' in filepath:\n",
    "            gender = 'Hommes'\n",
    "        elif 'Femmes' in filepath:\n",
    "            gender = 'Femmes'\n",
    "\n",
    "        # save the MFCCs to the appropriate directory based on gender\n",
    "        if gender is not None:\n",
    "            gender_dir = os.path.join(directory, gender)\n",
    "            if not os.path.exists(gender_dir):\n",
    "                os.makedirs(gender_dir)\n",
    "            mfcc_file = os.path.join(gender_dir,  os.path.splitext(os.path.basename(filepath))[0] + \".mfcc\")\n",
    "            np.savetxt(mfcc_file, mfccs_voiced, delimiter=',')\n",
    "            \n",
    "      \n",
    "    \n",
    "    return  mfccs"
   ]
  },
  {
   "cell_type": "markdown",
   "id": "8c3a1b86",
   "metadata": {},
   "source": [
    "# Defining the function that splits the extraced mfccs into training and testing sets : 2/3 from male directory for training and 2/3 from female "
   ]
  },
  {
   "cell_type": "code",
   "execution_count": 4,
   "id": "bf8259ff",
   "metadata": {},
   "outputs": [],
   "source": [
    "def train_test_split(mfcc_dir):\n",
    "    # create separate lists for male and female file paths\n",
    "    male_files = []\n",
    "    female_files = []\n",
    "    for root, dirs, files in os.walk(mfcc_dir):\n",
    "        for file in files:\n",
    "            if file.endswith('.mfcc'):\n",
    "                if 'Hommes' in root:\n",
    "                    male_files.append(os.path.join(root, file))\n",
    "                elif 'Femmes' in root:\n",
    "                    female_files.append(os.path.join(root, file))\n",
    "\n",
    "    # shuffle the male and female lists independently\n",
    "    random.shuffle(male_files)\n",
    "    random.shuffle(female_files)\n",
    "\n",
    "    # split the male and female lists into train and test based on the desired ratio\n",
    "    male_train = male_files[:int(2/3*len(male_files))]\n",
    "    male_test = male_files[int(2/3*len(male_files)):]\n",
    "\n",
    "    female_train = female_files[:int(2/3*len(female_files))]\n",
    "    female_test = female_files[int(2/3*len(female_files)):]\n",
    "  \n",
    "    # merge the train and test lists for both male and female\n",
    "    train_files = male_train + female_train\n",
    "    test_files = male_test + female_test\n",
    "\n",
    "    # load the MFCC features from the saved files for the train and test sets\n",
    "    train_mfccs = []\n",
    "    test_mfccs = []\n",
    "\n",
    "    for file in train_files:\n",
    "        train_mfccs.append(np.loadtxt(file, delimiter=','))\n",
    "\n",
    "    for file in test_files:\n",
    "        test_mfccs.append(np.loadtxt(file, delimiter=','))\n",
    "\n",
    "    # print the shapes of the train and test MFCC feature arrays\n",
    "    print(f\"Train male MFCCs shape: {np.array(male_train).shape}\")\n",
    "    print(f\"Test male MFCCs shape: {np.array( male_test).shape}\")\n",
    "    print(f\"Train female MFCCs shape: {np.array(female_train).shape}\")\n",
    "    print(f\"Test female MFCCs shape: {np.array( female_test).shape}\")\n",
    "    print(f\"Train MFCCs shape: {np.array(train_mfccs).shape}\")\n",
    "    print(f\"Test MFCCs shape: {np.array(test_mfccs).shape}\")\n",
    "    \n",
    "    return train_mfccs, test_mfccs\n"
   ]
  },
  {
   "cell_type": "markdown",
   "id": "0ad0d967",
   "metadata": {},
   "source": [
    "# Defining the functions that train the different GMM models and than save them as a pkl file"
   ]
  },
  {
   "cell_type": "code",
   "execution_count": 5,
   "id": "b8bd0e12",
   "metadata": {},
   "outputs": [],
   "source": [
    "def gmm16(train_mfccs):\n",
    "    # Initialize the GMM model with 16 classes\n",
    "    gmm = GaussianMixture(n_components=16, covariance_type='diag', random_state=0)\n",
    "\n",
    "    # Fit the GMM model to the training data\n",
    "    gmm.fit(train_mfccs)\n",
    "    \n",
    "    # Save the trained GMM model to a file\n",
    "    joblib.dump(gmm, r'C:\\Users\\ASUS ROG STRIX\\Desktop\\Projet\\Langues\\gmm\\russe\\gmm_model16_russe.pkl')\n",
    "\n",
    "    return gmm\n"
   ]
  },
  {
   "cell_type": "code",
   "execution_count": 6,
   "id": "dacbf32b",
   "metadata": {},
   "outputs": [],
   "source": [
    "def gmm32(train_mfccs):\n",
    "    # Initialize the GMM model with 32 classes\n",
    "    gmm = GaussianMixture(n_components=32, covariance_type='diag', random_state=0)\n",
    "\n",
    "    # Fit the GMM model to the training data\n",
    "    gmm.fit(train_mfccs)\n",
    "    \n",
    "    # Save the trained GMM model to a file\n",
    "    joblib.dump(gmm, r'C:\\Users\\ASUS ROG STRIX\\Desktop\\Projet\\Langues\\gmm\\russe\\gmm_model32_russe.pkl')\n",
    "\n",
    "    return gmm"
   ]
  },
  {
   "cell_type": "code",
   "execution_count": 7,
   "id": "28b6eb22",
   "metadata": {},
   "outputs": [],
   "source": [
    "def gmm64(train_mfccs):\n",
    "    # Initialize the GMM model with 64 classes\n",
    "    gmm = GaussianMixture(n_components=64, covariance_type='diag', random_state=0)\n",
    "\n",
    "    # Fit the GMM model to the training data\n",
    "    gmm.fit(train_mfccs)\n",
    "    \n",
    "    # Save the trained GMM model to a file\n",
    "    joblib.dump(gmm, r'C:\\Users\\ASUS ROG STRIX\\Desktop\\Projet\\Langues\\gmm\\russe\\gmm_model64_russe.pkl')\n",
    "\n",
    "    return gmm"
   ]
  },
  {
   "cell_type": "code",
   "execution_count": 8,
   "id": "a0bc521f",
   "metadata": {},
   "outputs": [],
   "source": [
    "def gmm128(train_mfccs):\n",
    "    # Initialize the GMM model with 128 classes\n",
    "    gmm = GaussianMixture(n_components=128, covariance_type='diag', random_state=0)\n",
    "\n",
    "    # Fit the GMM model to the training data\n",
    "    gmm.fit(train_mfccs)\n",
    "    \n",
    "    # Save the trained GMM model to a file\n",
    "    joblib.dump(gmm, r'C:\\Users\\ASUS ROG STRIX\\Desktop\\Projet\\Langues\\gmm\\russe\\gmm_model128_russe.pkl')\n",
    "\n",
    "    return gmm"
   ]
  },
  {
   "cell_type": "code",
   "execution_count": 9,
   "id": "612098fc",
   "metadata": {},
   "outputs": [],
   "source": [
    "def gmm256(train_mfccs):\n",
    "    # Initialize the GMM model with 254 classes\n",
    "    gmm = GaussianMixture(n_components=256, covariance_type='diag', random_state=0)\n",
    "\n",
    "    # Fit the GMM model to the training data\n",
    "    gmm.fit(train_mfccs)\n",
    "    \n",
    "    # Save the trained GMM model to a file\n",
    "    joblib.dump(gmm, r'C:\\Users\\ASUS ROG STRIX\\Desktop\\Projet\\Langues\\gmm\\russe\\gmm_model256_russe.pkl')\n",
    "\n",
    "    return gmm"
   ]
  },
  {
   "cell_type": "code",
   "execution_count": 10,
   "id": "dfb45460",
   "metadata": {},
   "outputs": [],
   "source": [
    "def gmm512(train_mfccs):\n",
    "    # Initialize the GMM model with 254 classes\n",
    "    gmm = GaussianMixture(n_components=512, covariance_type='diag', random_state=0)\n",
    "\n",
    "    # Fit the GMM model to the training data\n",
    "    gmm.fit(train_mfccs)\n",
    "    \n",
    "    # Save the trained GMM model to a file\n",
    "    joblib.dump(gmm, r'C:\\Users\\ASUS ROG STRIX\\Desktop\\Projet\\Langues\\gmm\\russe\\gmm_model512_russe.pkl')\n",
    "\n",
    "    return gmm"
   ]
  },
  {
   "cell_type": "code",
   "execution_count": 11,
   "id": "f0434482",
   "metadata": {},
   "outputs": [],
   "source": [
    "def gmm1024(train_mfccs):\n",
    "    # Initialize the GMM model with 254 classes\n",
    "    gmm = GaussianMixture(n_components=1024, covariance_type='diag', random_state=0)\n",
    "\n",
    "    # Fit the GMM model to the training data\n",
    "    gmm.fit(train_mfccs)\n",
    "    \n",
    "    # Save the trained GMM model to a file\n",
    "    joblib.dump(gmm, r'C:\\Users\\ASUS ROG STRIX\\Desktop\\Projet\\Langues\\gmm\\russe\\gmm_model1024_russe.pkl')\n",
    "\n",
    "    return gmm"
   ]
  },
  {
   "cell_type": "markdown",
   "id": "47df1901",
   "metadata": {},
   "source": [
    "# Getting the audios frequencies and filepaths from the russe directory using the function defined above"
   ]
  },
  {
   "cell_type": "code",
   "execution_count": 12,
   "id": "691321ce",
   "metadata": {},
   "outputs": [
    {
     "name": "stderr",
     "output_type": "stream",
     "text": [
      "C:\\Temp\\ipykernel_1772\\2069710646.py:13: WavFileWarning: Chunk (non-data) not understood, skipping it.\n",
      "  freq, data = scipy.io.wavfile.read(f, mmap=False)\n"
     ]
    }
   ],
   "source": [
    "audios, freqs, filepaths= read_audios(r'C:\\Users\\ASUS ROG STRIX\\Desktop\\Projet\\Langues\\dataset\\russe')"
   ]
  },
  {
   "cell_type": "markdown",
   "id": "c6a44575",
   "metadata": {},
   "source": [
    "# Extracting the mfcc features - Removing silence and saving the mfccs"
   ]
  },
  {
   "cell_type": "code",
   "execution_count": 13,
   "id": "1cb16fef",
   "metadata": {
    "scrolled": true
   },
   "outputs": [
    {
     "name": "stdout",
     "output_type": "stream",
     "text": [
      "MFCCs before removing silence: (6423, 13)\n",
      "MFCCs after removing silence: (6176, 13)\n",
      "MFCCs before removing silence: (1469, 13)\n",
      "MFCCs after removing silence: (1444, 13)\n",
      "MFCCs before removing silence: (2384, 13)\n",
      "MFCCs after removing silence: (2353, 13)\n",
      "MFCCs before removing silence: (2836, 13)\n",
      "MFCCs after removing silence: (2781, 13)\n",
      "MFCCs before removing silence: (2310, 13)\n",
      "MFCCs after removing silence: (2231, 13)\n",
      "MFCCs before removing silence: (3378, 13)\n",
      "MFCCs after removing silence: (3378, 13)\n",
      "MFCCs before removing silence: (2768, 13)\n",
      "MFCCs after removing silence: (2659, 13)\n",
      "MFCCs before removing silence: (1548, 13)\n",
      "MFCCs after removing silence: (1514, 13)\n",
      "MFCCs before removing silence: (3291, 13)\n",
      "MFCCs after removing silence: (3205, 13)\n",
      "MFCCs before removing silence: (9031, 13)\n",
      "MFCCs after removing silence: (8958, 13)\n",
      "MFCCs before removing silence: (6861, 13)\n",
      "MFCCs after removing silence: (6817, 13)\n",
      "MFCCs before removing silence: (2940, 13)\n",
      "MFCCs after removing silence: (2805, 13)\n",
      "MFCCs before removing silence: (8679, 13)\n",
      "MFCCs after removing silence: (8404, 13)\n",
      "MFCCs before removing silence: (2731, 13)\n",
      "MFCCs after removing silence: (2683, 13)\n",
      "MFCCs before removing silence: (1606, 13)\n",
      "MFCCs after removing silence: (1558, 13)\n",
      "MFCCs before removing silence: (4745, 13)\n",
      "MFCCs after removing silence: (4623, 13)\n",
      "MFCCs before removing silence: (8034, 13)\n",
      "MFCCs after removing silence: (7661, 13)\n",
      "MFCCs before removing silence: (1686, 13)\n",
      "MFCCs after removing silence: (1625, 13)\n",
      "MFCCs before removing silence: (6944, 13)\n",
      "MFCCs after removing silence: (6803, 13)\n",
      "MFCCs before removing silence: (6668, 13)\n",
      "MFCCs after removing silence: (6593, 13)\n",
      "MFCCs before removing silence: (8144, 13)\n",
      "MFCCs after removing silence: (7857, 13)\n",
      "MFCCs before removing silence: (3095, 13)\n",
      "MFCCs after removing silence: (3006, 13)\n",
      "MFCCs before removing silence: (12383, 13)\n",
      "MFCCs after removing silence: (12378, 13)\n",
      "MFCCs before removing silence: (9691, 13)\n",
      "MFCCs after removing silence: (9460, 13)\n",
      "MFCCs before removing silence: (8017, 13)\n",
      "MFCCs after removing silence: (7605, 13)\n",
      "MFCCs before removing silence: (7465, 13)\n",
      "MFCCs after removing silence: (6833, 13)\n",
      "MFCCs before removing silence: (5147, 13)\n",
      "MFCCs after removing silence: (5078, 13)\n",
      "MFCCs before removing silence: (4263, 13)\n",
      "MFCCs after removing silence: (4169, 13)\n",
      "MFCCs before removing silence: (12696, 13)\n",
      "MFCCs after removing silence: (12257, 13)\n",
      "MFCCs before removing silence: (9691, 13)\n",
      "MFCCs after removing silence: (9355, 13)\n",
      "MFCCs before removing silence: (3936, 13)\n",
      "MFCCs after removing silence: (3859, 13)\n",
      "MFCCs before removing silence: (5544, 13)\n",
      "MFCCs after removing silence: (5313, 13)\n",
      "MFCCs before removing silence: (5571, 13)\n",
      "MFCCs after removing silence: (5351, 13)\n",
      "MFCCs before removing silence: (3856, 13)\n",
      "MFCCs after removing silence: (3648, 13)\n",
      "MFCCs before removing silence: (1611, 13)\n",
      "MFCCs after removing silence: (1548, 13)\n",
      "MFCCs before removing silence: (1389, 13)\n",
      "MFCCs after removing silence: (1389, 13)\n",
      "MFCCs before removing silence: (2169, 13)\n",
      "MFCCs after removing silence: (2142, 13)\n",
      "MFCCs before removing silence: (2415, 13)\n",
      "MFCCs after removing silence: (2312, 13)\n",
      "MFCCs before removing silence: (1435, 13)\n",
      "MFCCs after removing silence: (1373, 13)\n",
      "MFCCs before removing silence: (1469, 13)\n",
      "MFCCs after removing silence: (1420, 13)\n",
      "MFCCs before removing silence: (2179, 13)\n",
      "MFCCs after removing silence: (2179, 13)\n",
      "MFCCs before removing silence: (8217, 13)\n",
      "MFCCs after removing silence: (8125, 13)\n",
      "MFCCs before removing silence: (2814, 13)\n",
      "MFCCs after removing silence: (2711, 13)\n",
      "MFCCs before removing silence: (9763, 13)\n",
      "MFCCs after removing silence: (9387, 13)\n",
      "MFCCs before removing silence: (1642, 13)\n",
      "MFCCs after removing silence: (1642, 13)\n",
      "MFCCs before removing silence: (1963, 13)\n",
      "MFCCs after removing silence: (1905, 13)\n",
      "MFCCs before removing silence: (5511, 13)\n",
      "MFCCs after removing silence: (5315, 13)\n",
      "MFCCs before removing silence: (3703, 13)\n",
      "MFCCs after removing silence: (3580, 13)\n",
      "MFCCs before removing silence: (5471, 13)\n",
      "MFCCs after removing silence: (5229, 13)\n",
      "MFCCs before removing silence: (3211, 13)\n",
      "MFCCs after removing silence: (3175, 13)\n",
      "MFCCs before removing silence: (2901, 13)\n",
      "MFCCs after removing silence: (2886, 13)\n",
      "MFCCs before removing silence: (3293, 13)\n",
      "MFCCs after removing silence: (3094, 13)\n",
      "MFCCs before removing silence: (12132, 13)\n",
      "MFCCs after removing silence: (11469, 13)\n",
      "MFCCs before removing silence: (3534, 13)\n",
      "MFCCs after removing silence: (3392, 13)\n",
      "MFCCs before removing silence: (6327, 13)\n",
      "MFCCs after removing silence: (5927, 13)\n",
      "MFCCs before removing silence: (11342, 13)\n",
      "MFCCs after removing silence: (10965, 13)\n",
      "MFCCs before removing silence: (8677, 13)\n",
      "MFCCs after removing silence: (8619, 13)\n",
      "MFCCs before removing silence: (11328, 13)\n",
      "MFCCs after removing silence: (10318, 13)\n",
      "MFCCs before removing silence: (2303, 13)\n",
      "MFCCs after removing silence: (2298, 13)\n",
      "MFCCs before removing silence: (4505, 13)\n",
      "MFCCs after removing silence: (4505, 13)\n",
      "MFCCs before removing silence: (2852, 13)\n",
      "MFCCs after removing silence: (2765, 13)\n",
      "MFCCs before removing silence: (10285, 13)\n",
      "MFCCs after removing silence: (9486, 13)\n",
      "MFCCs before removing silence: (2032, 13)\n",
      "MFCCs after removing silence: (1977, 13)\n",
      "MFCCs before removing silence: (2985, 13)\n",
      "MFCCs after removing silence: (2859, 13)\n",
      "MFCCs before removing silence: (6553, 13)\n",
      "MFCCs after removing silence: (6550, 13)\n",
      "MFCCs before removing silence: (8891, 13)\n",
      "MFCCs after removing silence: (8448, 13)\n",
      "MFCCs before removing silence: (3714, 13)\n",
      "MFCCs after removing silence: (3714, 13)\n",
      "MFCCs before removing silence: (10353, 13)\n",
      "MFCCs after removing silence: (9946, 13)\n",
      "MFCCs before removing silence: (1327, 13)\n",
      "MFCCs after removing silence: (1326, 13)\n"
     ]
    }
   ],
   "source": [
    "mfccs = extractMfccs_RemoveSilence_saveMfccs(audios, freqs, filepaths,r'C:\\Users\\ASUS ROG STRIX\\Desktop\\Projet\\Langues\\mfcc\\russe')"
   ]
  },
  {
   "cell_type": "markdown",
   "id": "0c215355",
   "metadata": {},
   "source": [
    "## -----> We can see here that the size of the mfcc features has decreased after removing the frames ot silence"
   ]
  },
  {
   "cell_type": "markdown",
   "id": "d433fa3a",
   "metadata": {},
   "source": [
    "# Splitting into teest and train sets according to gender"
   ]
  },
  {
   "cell_type": "code",
   "execution_count": 14,
   "id": "88efb508",
   "metadata": {
    "scrolled": true
   },
   "outputs": [
    {
     "name": "stdout",
     "output_type": "stream",
     "text": [
      "Train male MFCCs shape: (20,)\n",
      "Test male MFCCs shape: (11,)\n",
      "Train female MFCCs shape: (25,)\n",
      "Test female MFCCs shape: (13,)\n",
      "Train MFCCs shape: (45,)\n",
      "Test MFCCs shape: (24,)\n"
     ]
    },
    {
     "name": "stderr",
     "output_type": "stream",
     "text": [
      "C:\\Temp\\ipykernel_1772\\3098702810.py:43: VisibleDeprecationWarning: Creating an ndarray from ragged nested sequences (which is a list-or-tuple of lists-or-tuples-or ndarrays with different lengths or shapes) is deprecated. If you meant to do this, you must specify 'dtype=object' when creating the ndarray.\n",
      "  print(f\"Train MFCCs shape: {np.array(train_mfccs).shape}\")\n",
      "C:\\Temp\\ipykernel_1772\\3098702810.py:44: VisibleDeprecationWarning: Creating an ndarray from ragged nested sequences (which is a list-or-tuple of lists-or-tuples-or ndarrays with different lengths or shapes) is deprecated. If you meant to do this, you must specify 'dtype=object' when creating the ndarray.\n",
      "  print(f\"Test MFCCs shape: {np.array(test_mfccs).shape}\")\n"
     ]
    }
   ],
   "source": [
    "train_mfccs, test_mfccs = train_test_split(r'C:\\Users\\ASUS ROG STRIX\\Desktop\\Projet\\Langues\\mfcc\\russe')"
   ]
  },
  {
   "cell_type": "markdown",
   "id": "3dc25031",
   "metadata": {},
   "source": [
    "# Stacking vertically the train and test MFCC features so that we can fit the gmm models"
   ]
  },
  {
   "cell_type": "code",
   "execution_count": 15,
   "id": "c1453682",
   "metadata": {},
   "outputs": [],
   "source": [
    "#stack vertically the train MFCC features \n",
    "mfcc_train = []\n",
    "for train_mfcc in train_mfccs:\n",
    "    mfcc_train.append(train_mfcc)\n",
    "mfcc_train = np.concatenate(mfcc_train, axis=0)\n",
    "\n",
    "#stack vertically the test MFCC features \n",
    "mfcc_test = []\n",
    "for test_mfcc in test_mfccs:\n",
    "    mfcc_test.append(test_mfcc)\n",
    "mfcc_test = np.concatenate(mfcc_test, axis=0)\n"
   ]
  },
  {
   "cell_type": "markdown",
   "id": "6fb378a1",
   "metadata": {},
   "source": [
    "# Saving the test set into a txt file "
   ]
  },
  {
   "cell_type": "code",
   "execution_count": 16,
   "id": "c8254a5c",
   "metadata": {},
   "outputs": [],
   "source": [
    "#Save the test mfccs in a file\n",
    "test_mfccs = np.vstack(test_mfccs)\n",
    "test_mfccs = np.array(test_mfccs, dtype=float)\n",
    "np.savetxt(r'C:\\Users\\ASUS ROG STRIX\\Desktop\\Projet\\Langues\\gmm\\Test\\russeTest', test_mfccs, delimiter=',')\n",
    "\n"
   ]
  },
  {
   "cell_type": "markdown",
   "id": "e4c7eab2",
   "metadata": {},
   "source": [
    "# Training the different Gmm Models "
   ]
  },
  {
   "cell_type": "code",
   "execution_count": 17,
   "id": "d7f1788a",
   "metadata": {},
   "outputs": [],
   "source": [
    "gmm16 = gmm16(mfcc_train)"
   ]
  },
  {
   "cell_type": "code",
   "execution_count": 18,
   "id": "caf46091",
   "metadata": {},
   "outputs": [],
   "source": [
    "gmm32 = gmm32(mfcc_train)"
   ]
  },
  {
   "cell_type": "code",
   "execution_count": 19,
   "id": "7f95e8c5",
   "metadata": {},
   "outputs": [],
   "source": [
    "gmm64 = gmm64(mfcc_train)"
   ]
  },
  {
   "cell_type": "code",
   "execution_count": 20,
   "id": "60fcf0ca",
   "metadata": {},
   "outputs": [],
   "source": [
    "gmm128= gmm128(mfcc_train)"
   ]
  },
  {
   "cell_type": "code",
   "execution_count": 21,
   "id": "70009491",
   "metadata": {
    "scrolled": true
   },
   "outputs": [],
   "source": [
    "gmm256= gmm256(mfcc_train)"
   ]
  },
  {
   "cell_type": "code",
   "execution_count": 22,
   "id": "c775f3c9",
   "metadata": {},
   "outputs": [],
   "source": [
    "gmm512= gmm512(mfcc_train)"
   ]
  },
  {
   "cell_type": "code",
   "execution_count": 23,
   "id": "a230d94d",
   "metadata": {},
   "outputs": [],
   "source": [
    "gmm1024= gmm1024(mfcc_train)"
   ]
  },
  {
   "cell_type": "markdown",
   "id": "57307236",
   "metadata": {},
   "source": [
    "# Evaluate the performance of each GMM model on the test set using the score_samples() function that returns an array containing the log-likelihood of each frame of the mfcc features"
   ]
  },
  {
   "cell_type": "code",
   "execution_count": 24,
   "id": "864627f4",
   "metadata": {
    "scrolled": true
   },
   "outputs": [
    {
     "name": "stdout",
     "output_type": "stream",
     "text": [
      "GMM16 score: [-54.7927447  -55.22374245 -55.04589678 ... -49.0122482  -53.46828079\n",
      " -54.36779249]\n",
      "GMM32 score: [-54.72943187 -55.18588355 -55.19705043 ... -49.37750308 -54.67592071\n",
      " -55.48922719]\n",
      "GMM64 score: [-55.32400156 -56.35399112 -56.37163834 ... -49.33255968 -52.54890503\n",
      " -53.26435378]\n",
      "GMM128 score: [-55.91754818 -56.90636197 -56.50238751 ... -49.60091604 -52.02241513\n",
      " -52.29772125]\n",
      "GMM256 score: [-56.99438979 -57.91454794 -57.37193031 ... -49.49046264 -53.2723753\n",
      " -53.26707275]\n",
      "GMM512 score: [-51.94531283 -55.08136075 -54.28215355 ... -50.01132213 -53.43587183\n",
      " -54.1275116 ]\n",
      "GMM1024 score: [-53.51711814 -57.2994351  -55.44497848 ... -50.32384281 -53.49788715\n",
      " -54.57641358]\n"
     ]
    }
   ],
   "source": [
    "scores = []\n",
    "for model in [gmm16, gmm32, gmm64, gmm128, gmm256, gmm512, gmm1024]:\n",
    "    score = model.score_samples(mfcc_test)\n",
    "    scores.append(score)\n",
    "\n",
    "# Print the scores\n",
    "print('GMM16 score:', scores[0])\n",
    "print('GMM32 score:', scores[1])\n",
    "print('GMM64 score:', scores[2])\n",
    "print('GMM128 score:', scores[3])\n",
    "print('GMM256 score:', scores[4])\n",
    "print('GMM512 score:', scores[5])\n",
    "print('GMM1024 score:', scores[6])\n",
    "\n"
   ]
  },
  {
   "cell_type": "markdown",
   "id": "30f5b35d",
   "metadata": {},
   "source": [
    "# As we can see in the following lines our mfcc_test set contains 126731 frames so we expect the same size of the scores array "
   ]
  },
  {
   "cell_type": "code",
   "execution_count": 25,
   "id": "7a160dc9",
   "metadata": {},
   "outputs": [
    {
     "data": {
      "text/plain": [
       "(123761, 13)"
      ]
     },
     "execution_count": 25,
     "metadata": {},
     "output_type": "execute_result"
    }
   ],
   "source": [
    "mfcc_test.shape"
   ]
  },
  {
   "cell_type": "markdown",
   "id": "d64110e6",
   "metadata": {},
   "source": [
    "# Indeed the size of the scores array is the same "
   ]
  },
  {
   "cell_type": "code",
   "execution_count": 26,
   "id": "e793c874",
   "metadata": {},
   "outputs": [
    {
     "data": {
      "text/plain": [
       "(123761,)"
      ]
     },
     "execution_count": 26,
     "metadata": {},
     "output_type": "execute_result"
    }
   ],
   "source": [
    " scores[0].shape"
   ]
  },
  {
   "cell_type": "markdown",
   "id": "a199e421",
   "metadata": {},
   "source": [
    "# In order to compare between the different GMM Models we need to calculate the score for the hole test set and we can do that by calculating the mean of the individual scores"
   ]
  },
  {
   "cell_type": "code",
   "execution_count": 27,
   "id": "bddb6015",
   "metadata": {},
   "outputs": [
    {
     "name": "stdout",
     "output_type": "stream",
     "text": [
      "GMM16 score: -51.64790926621721\n",
      "GMM32 score: -51.48207335501998\n",
      "GMM64 score: -51.39435107206979\n",
      "GMM128 score: -51.24158010604093\n",
      "GMM256 score: -51.13858957860422\n",
      "GMM512 score: -51.0973443757389\n",
      "GMM1024 score: -51.134532005707875\n"
     ]
    }
   ],
   "source": [
    "#calculationg the score of the hole test set\n",
    "print('GMM16 score:', scores[0].mean())\n",
    "print('GMM32 score:', scores[1].mean())\n",
    "print('GMM64 score:', scores[2].mean())\n",
    "print('GMM128 score:', scores[3].mean())\n",
    "print('GMM256 score:', scores[4].mean())\n",
    "print('GMM512 score:', scores[5].mean())\n",
    "print('GMM1024 score:', scores[6].mean())"
   ]
  },
  {
   "cell_type": "markdown",
   "id": "3fc3e080",
   "metadata": {},
   "source": [
    "### From the results above we can see that the best score (the closest one to 0) is given by the model using 512 gaussians "
   ]
  }
 ],
 "metadata": {
  "kernelspec": {
   "display_name": "Python 3 (ipykernel)",
   "language": "python",
   "name": "python3"
  },
  "language_info": {
   "codemirror_mode": {
    "name": "ipython",
    "version": 3
   },
   "file_extension": ".py",
   "mimetype": "text/x-python",
   "name": "python",
   "nbconvert_exporter": "python",
   "pygments_lexer": "ipython3",
   "version": "3.10.9"
  }
 },
 "nbformat": 4,
 "nbformat_minor": 5
}
