{
 "cells": [
  {
   "cell_type": "code",
   "execution_count": 1,
   "id": "424dc7cc",
   "metadata": {},
   "outputs": [],
   "source": [
    "import math\n",
    "import numpy as np\n",
    "import joblib\n"
   ]
  },
  {
   "cell_type": "code",
   "execution_count": 2,
   "id": "bcad90bb",
   "metadata": {},
   "outputs": [],
   "source": [
    "def split_audio_test(test_mfccs, segment_length_sec):\n",
    "\n",
    "    # Compute the number of frames per segment\n",
    "    frames_per_sec = 100  # Assuming 100 frames per second\n",
    "    frames_per_segment = int(segment_length_sec * frames_per_sec)\n",
    "\n",
    "    # Split the test audio into segments\n",
    "    num_segments = math.ceil(len(test_mfccs) / frames_per_segment)\n",
    "    test_segments = []\n",
    "    for i in range(num_segments):\n",
    "        start_frame = i * frames_per_segment\n",
    "        end_frame = min(start_frame + frames_per_segment, len(test_mfccs))\n",
    "        segment = test_mfccs[start_frame:end_frame]\n",
    "        test_segments.append(segment)\n",
    "\n",
    "    return test_segments"
   ]
  },
  {
   "cell_type": "code",
   "execution_count": 3,
   "id": "f0042f00",
   "metadata": {},
   "outputs": [],
   "source": [
    "test_mfccs_russe = np.loadtxt(r'C:\\Users\\ASUS ROG STRIX\\Desktop\\Projet\\Langues\\gmm\\Test\\japaneseTest', delimiter=',')\n",
    "test_segments_5s_russe = split_audio_test(test_mfccs_russe, 5)\n",
    "test_segments_10s_russe = split_audio_test(test_mfccs_russe, 10)\n",
    "test_segments_15s_russe = split_audio_test(test_mfccs_russe, 15)"
   ]
  },
  {
   "cell_type": "code",
   "execution_count": 4,
   "id": "04f4b20d",
   "metadata": {},
   "outputs": [],
   "source": [
    "# Load the GMM models for each language\n",
    "russian_gmm512 = joblib.load(r'C:\\Users\\ASUS ROG STRIX\\Desktop\\Projet\\Langues\\gmm\\russe\\gmm_model512_russe.pkl')\n",
    "arabic_gmm512 = joblib.load(r'C:\\Users\\ASUS ROG STRIX\\Desktop\\Projet\\Langues\\gmm\\arabic\\gmm_model512_arabic.pkl')\n",
    "spanish_gmm512 = joblib.load(r'C:\\Users\\ASUS ROG STRIX\\Desktop\\Projet\\Langues\\gmm\\spanish\\gmm_model512_spanish.pkl')\n",
    "english_gmm512 = joblib.load(r'C:\\Users\\ASUS ROG STRIX\\Desktop\\Projet\\Langues\\gmm\\english\\gmm_model512_english.pkl')\n",
    "japanese_gmm512 = joblib.load(r'C:\\Users\\ASUS ROG STRIX\\Desktop\\Projet\\Langues\\gmm\\japanese\\gmm_model512_japanese.pkl')\n",
    "french_gmm512 = joblib.load(r'C:\\Users\\ASUS ROG STRIX\\Desktop\\Projet\\Langues\\gmm\\french\\gmm_model512_french.pkl')"
   ]
  },
  {
   "cell_type": "code",
   "execution_count": 5,
   "id": "bc994413",
   "metadata": {},
   "outputs": [],
   "source": [
    "def predict_language(mfccs, russian_gmm, arabic_gmm, spanish_gmm, english_gmm, japanese_gmm, french_gmm):\n",
    "\n",
    "    \n",
    "    # calculate the scores for each language\n",
    "    russian_score = russian_gmm.score_samples(mfccs)\n",
    "    arabic_score = arabic_gmm.score_samples(mfccs)\n",
    "    spanish_score = spanish_gmm.score_samples(mfccs)\n",
    "    english_score = english_gmm.score_samples(mfccs)\n",
    "    japanese_score = japanese_gmm.score_samples(mfccs)\n",
    "    french_score = french_gmm.score_samples(mfccs)\n",
    "    \n",
    "    # return the language with the highest score\n",
    "    scores = {\"russian\": russian_score.mean(), \"arabic\": arabic_score.mean(), \"spanish\": spanish_score.mean(), \n",
    "              \"english\": english_score.mean(), \"japanese\": japanese_score.mean(), \"french\": french_score.mean()}\n",
    "    predicted_language = max(scores, key=scores.get)\n",
    "    max_score = scores[predicted_language]\n",
    "\n",
    "\n",
    "    return  max_score , predicted_language"
   ]
  },
  {
   "cell_type": "code",
   "execution_count": 6,
   "id": "7071f57c",
   "metadata": {
    "scrolled": true
   },
   "outputs": [
    {
     "name": "stdout",
     "output_type": "stream",
     "text": [
      "MAX_Score: -49.90634847880653 --- Predicted Language: japanese\n",
      "MAX_Score: -51.23539787472265 --- Predicted Language: japanese\n",
      "MAX_Score: -51.1715017398285 --- Predicted Language: japanese\n",
      "MAX_Score: -51.43543187321991 --- Predicted Language: japanese\n",
      "MAX_Score: -48.69334542360519 --- Predicted Language: japanese\n",
      "MAX_Score: -48.92591578143014 --- Predicted Language: japanese\n",
      "MAX_Score: -47.918073275390256 --- Predicted Language: japanese\n",
      "MAX_Score: -51.560545760147555 --- Predicted Language: japanese\n",
      "MAX_Score: -50.680856114840005 --- Predicted Language: japanese\n",
      "MAX_Score: -47.914866989273285 --- Predicted Language: japanese\n",
      "MAX_Score: -49.42112635663891 --- Predicted Language: japanese\n",
      "MAX_Score: -50.809023266962484 --- Predicted Language: japanese\n",
      "MAX_Score: -48.729735112829324 --- Predicted Language: japanese\n",
      "MAX_Score: -47.91168990154374 --- Predicted Language: japanese\n",
      "MAX_Score: -47.81308167873093 --- Predicted Language: japanese\n",
      "MAX_Score: -46.5769558306347 --- Predicted Language: japanese\n",
      "MAX_Score: -46.71718947305523 --- Predicted Language: japanese\n",
      "MAX_Score: -49.571272329876734 --- Predicted Language: japanese\n",
      "MAX_Score: -47.04284699981753 --- Predicted Language: japanese\n",
      "MAX_Score: -47.86921208600912 --- Predicted Language: japanese\n",
      "MAX_Score: -46.5830575187987 --- Predicted Language: japanese\n",
      "MAX_Score: -47.26449660233405 --- Predicted Language: japanese\n",
      "MAX_Score: -49.820532524209895 --- Predicted Language: japanese\n",
      "MAX_Score: -50.19802136638932 --- Predicted Language: japanese\n",
      "MAX_Score: -50.22098757867406 --- Predicted Language: japanese\n",
      "MAX_Score: -51.46828866694213 --- Predicted Language: japanese\n",
      "MAX_Score: -52.13368025259985 --- Predicted Language: japanese\n",
      "MAX_Score: -50.614995723039 --- Predicted Language: japanese\n",
      "MAX_Score: -46.882054430240004 --- Predicted Language: japanese\n",
      "MAX_Score: -50.35875109204833 --- Predicted Language: japanese\n",
      "MAX_Score: -47.92816669083533 --- Predicted Language: japanese\n",
      "MAX_Score: -46.81334601978044 --- Predicted Language: japanese\n",
      "MAX_Score: -49.06128957324321 --- Predicted Language: japanese\n",
      "MAX_Score: -50.75947127326012 --- Predicted Language: japanese\n",
      "MAX_Score: -46.12469568934613 --- Predicted Language: japanese\n",
      "MAX_Score: -47.86973217059057 --- Predicted Language: japanese\n",
      "MAX_Score: -59.43923795586523 --- Predicted Language: japanese\n",
      "MAX_Score: -56.455072725981125 --- Predicted Language: japanese\n",
      "MAX_Score: -50.73658563812444 --- Predicted Language: japanese\n",
      "MAX_Score: -51.06015748327327 --- Predicted Language: japanese\n",
      "MAX_Score: -53.91744901704003 --- Predicted Language: japanese\n",
      "MAX_Score: -50.922495062494846 --- Predicted Language: japanese\n",
      "MAX_Score: -48.727876516684375 --- Predicted Language: japanese\n",
      "MAX_Score: -53.826421461901006 --- Predicted Language: japanese\n",
      "MAX_Score: -51.89961733579366 --- Predicted Language: japanese\n",
      "MAX_Score: -34.08866034656664 --- Predicted Language: japanese\n",
      "MAX_Score: 40.381819572531704 --- Predicted Language: japanese\n",
      "MAX_Score: -57.50410324766678 --- Predicted Language: japanese\n",
      "MAX_Score: -50.122998723381386 --- Predicted Language: japanese\n",
      "MAX_Score: -48.85722927275274 --- Predicted Language: japanese\n",
      "MAX_Score: -49.98079378774283 --- Predicted Language: japanese\n",
      "MAX_Score: -46.66066598832428 --- Predicted Language: japanese\n",
      "MAX_Score: -48.29735387492031 --- Predicted Language: japanese\n",
      "MAX_Score: -46.51927628648178 --- Predicted Language: japanese\n",
      "MAX_Score: -48.526411617727554 --- Predicted Language: japanese\n",
      "MAX_Score: -49.785357315752115 --- Predicted Language: japanese\n",
      "MAX_Score: -49.371784187239506 --- Predicted Language: japanese\n",
      "MAX_Score: -40.92651605719884 --- Predicted Language: japanese\n",
      "MAX_Score: -51.333563500567315 --- Predicted Language: japanese\n",
      "MAX_Score: -46.72806803793516 --- Predicted Language: japanese\n",
      "MAX_Score: -52.44935057590098 --- Predicted Language: japanese\n",
      "MAX_Score: -48.86892560531959 --- Predicted Language: japanese\n",
      "MAX_Score: -51.72289217829534 --- Predicted Language: japanese\n",
      "MAX_Score: -46.45484594274706 --- Predicted Language: japanese\n",
      "MAX_Score: -50.146169689108085 --- Predicted Language: japanese\n",
      "MAX_Score: -47.32693207990551 --- Predicted Language: japanese\n",
      "MAX_Score: -46.89692503659615 --- Predicted Language: japanese\n",
      "MAX_Score: -47.78832289924685 --- Predicted Language: japanese\n",
      "MAX_Score: -50.16091613999581 --- Predicted Language: japanese\n",
      "MAX_Score: -47.76180381373573 --- Predicted Language: japanese\n",
      "MAX_Score: -51.77642956235267 --- Predicted Language: japanese\n",
      "MAX_Score: -52.327036075109525 --- Predicted Language: japanese\n",
      "MAX_Score: -47.908628214417185 --- Predicted Language: japanese\n",
      "MAX_Score: -47.75560390826059 --- Predicted Language: japanese\n",
      "MAX_Score: -48.26173386607204 --- Predicted Language: japanese\n",
      "MAX_Score: -46.82485727297837 --- Predicted Language: japanese\n",
      "MAX_Score: -46.687112188820144 --- Predicted Language: japanese\n",
      "MAX_Score: -49.0354809738315 --- Predicted Language: japanese\n",
      "MAX_Score: -45.36784866634845 --- Predicted Language: japanese\n",
      "MAX_Score: -50.76695137745781 --- Predicted Language: japanese\n",
      "MAX_Score: -48.82009394634004 --- Predicted Language: japanese\n",
      "MAX_Score: -52.2145670434729 --- Predicted Language: japanese\n",
      "MAX_Score: -47.25398855804115 --- Predicted Language: japanese\n",
      "MAX_Score: -44.027435512350635 --- Predicted Language: japanese\n"
     ]
    }
   ],
   "source": [
    "results5s = []\n",
    "for test_segment in test_segments_5s_russe:\n",
    "    mydict = {}\n",
    "    mydict[\"maxScore\"], mydict[\"predictedLanguage\"] = predict_language(test_segment, russian_gmm512, arabic_gmm512, \n",
    "                                                                   spanish_gmm512, english_gmm512, japanese_gmm512, \n",
    "                                                                   french_gmm512)\n",
    "    results5s.append(mydict)\n",
    "    \n",
    "for result in results5s:\n",
    "    print(\"MAX_Score:\", result[\"maxScore\"] ,\"--- Predicted Language:\", result[\"predictedLanguage\"] )\n",
    "   \n"
   ]
  },
  {
   "cell_type": "code",
   "execution_count": 7,
   "id": "67c51152",
   "metadata": {
    "scrolled": true
   },
   "outputs": [
    {
     "name": "stdout",
     "output_type": "stream",
     "text": [
      "MAX_Score: -50.570873176764586 --- Predicted Language: japanese\n",
      "MAX_Score: -51.3034668065242 --- Predicted Language: japanese\n",
      "MAX_Score: -48.80963060251766 --- Predicted Language: japanese\n",
      "MAX_Score: -49.739309517768895 --- Predicted Language: japanese\n",
      "MAX_Score: -49.29786155205665 --- Predicted Language: japanese\n",
      "MAX_Score: -50.115074811800696 --- Predicted Language: japanese\n",
      "MAX_Score: -48.32071250718653 --- Predicted Language: japanese\n",
      "MAX_Score: -47.19501875468281 --- Predicted Language: japanese\n",
      "MAX_Score: -48.14423090146598 --- Predicted Language: japanese\n",
      "MAX_Score: -47.45602954291333 --- Predicted Language: japanese\n",
      "MAX_Score: -46.92377706056637 --- Predicted Language: japanese\n",
      "MAX_Score: -50.0092769452996 --- Predicted Language: japanese\n",
      "MAX_Score: -50.84463812280809 --- Predicted Language: japanese\n",
      "MAX_Score: -51.37433798781942 --- Predicted Language: japanese\n",
      "MAX_Score: -48.62040276114417 --- Predicted Language: japanese\n",
      "MAX_Score: -47.37075635530789 --- Predicted Language: japanese\n",
      "MAX_Score: -49.91038042325167 --- Predicted Language: japanese\n",
      "MAX_Score: -46.997213929968346 --- Predicted Language: japanese\n",
      "MAX_Score: -57.94715534092319 --- Predicted Language: japanese\n",
      "MAX_Score: -50.898371560698855 --- Predicted Language: japanese\n",
      "MAX_Score: -52.41997203976744 --- Predicted Language: japanese\n",
      "MAX_Score: -51.27714898929269 --- Predicted Language: japanese\n",
      "MAX_Score: -42.994138841180146 --- Predicted Language: japanese\n",
      "MAX_Score: -8.561141837567535 --- Predicted Language: japanese\n",
      "MAX_Score: -49.490113998067066 --- Predicted Language: japanese\n",
      "MAX_Score: -48.32072988803356 --- Predicted Language: japanese\n",
      "MAX_Score: -47.408315080701044 --- Predicted Language: japanese\n",
      "MAX_Score: -49.15588446673984 --- Predicted Language: japanese\n",
      "MAX_Score: -45.149150122219176 --- Predicted Language: japanese\n",
      "MAX_Score: -49.03081576925124 --- Predicted Language: japanese\n",
      "MAX_Score: -50.65913809061028 --- Predicted Language: japanese\n",
      "MAX_Score: -49.088869060521205 --- Predicted Language: japanese\n",
      "MAX_Score: -48.736550884506805 --- Predicted Language: japanese\n",
      "MAX_Score: -47.342623967921504 --- Predicted Language: japanese\n",
      "MAX_Score: -48.96135997686577 --- Predicted Language: japanese\n",
      "MAX_Score: -52.051732818731104 --- Predicted Language: japanese\n",
      "MAX_Score: -47.832116061338894 --- Predicted Language: japanese\n",
      "MAX_Score: -47.543295569525206 --- Predicted Language: japanese\n",
      "MAX_Score: -47.86129658132582 --- Predicted Language: japanese\n",
      "MAX_Score: -48.06740002190314 --- Predicted Language: japanese\n",
      "MAX_Score: -50.51733049490646 --- Predicted Language: japanese\n",
      "MAX_Score: -46.36891087206799 --- Predicted Language: japanese\n"
     ]
    }
   ],
   "source": [
    "results10s = []\n",
    "for test_segment in test_segments_10s_russe:\n",
    "    mydict = {}\n",
    "    mydict[\"maxScore\"], mydict[\"predictedLanguage\"] = predict_language(test_segment, russian_gmm512, arabic_gmm512, \n",
    "                                                                   spanish_gmm512, english_gmm512, japanese_gmm512, \n",
    "                                                                   french_gmm512)\n",
    "    results10s.append(mydict)\n",
    "    \n",
    "for result in results10s:\n",
    "    print(\"MAX_Score:\", result[\"maxScore\"] ,\"--- Predicted Language:\", result[\"predictedLanguage\"] )"
   ]
  },
  {
   "cell_type": "code",
   "execution_count": 8,
   "id": "48bd8332",
   "metadata": {
    "scrolled": true
   },
   "outputs": [
    {
     "name": "stdout",
     "output_type": "stream",
     "text": [
      "MAX_Score: -50.771082697785886 --- Predicted Language: japanese\n",
      "MAX_Score: -49.68489769275174 --- Predicted Language: japanese\n",
      "MAX_Score: -50.05315838345927 --- Predicted Language: japanese\n",
      "MAX_Score: -49.38167220429156 --- Predicted Language: japanese\n",
      "MAX_Score: -48.151502231034655 --- Predicted Language: japanese\n",
      "MAX_Score: -47.621805877855564 --- Predicted Language: japanese\n",
      "MAX_Score: -47.16503886820845 --- Predicted Language: japanese\n",
      "MAX_Score: -49.09435016431109 --- Predicted Language: japanese\n",
      "MAX_Score: -51.274318832738686 --- Predicted Language: japanese\n",
      "MAX_Score: -49.28526708177578 --- Predicted Language: japanese\n",
      "MAX_Score: -47.934267427952996 --- Predicted Language: japanese\n",
      "MAX_Score: -48.251299711065606 --- Predicted Language: japanese\n",
      "MAX_Score: -55.54363210665693 --- Predicted Language: japanese\n",
      "MAX_Score: -51.96670052093605 --- Predicted Language: japanese\n",
      "MAX_Score: -51.484638438126346 --- Predicted Language: japanese\n",
      "MAX_Score: -17.07031467390057 --- Predicted Language: japanese\n",
      "MAX_Score: -49.653673927959 --- Predicted Language: japanese\n",
      "MAX_Score: -47.15909871657546 --- Predicted Language: japanese\n",
      "MAX_Score: -49.227851040239734 --- Predicted Language: japanese\n",
      "MAX_Score: -46.329382531900436 --- Predicted Language: japanese\n",
      "MAX_Score: -51.0137227865053 --- Predicted Language: japanese\n",
      "MAX_Score: -47.97598257058689 --- Predicted Language: japanese\n",
      "MAX_Score: -48.28205469194627 --- Predicted Language: japanese\n",
      "MAX_Score: -50.621756483732646 --- Predicted Language: japanese\n",
      "MAX_Score: -47.975321996249946 --- Predicted Language: japanese\n",
      "MAX_Score: -47.51581681187668 --- Predicted Language: japanese\n",
      "MAX_Score: -48.31829799671543 --- Predicted Language: japanese\n",
      "MAX_Score: -48.82713466155701 --- Predicted Language: japanese\n"
     ]
    }
   ],
   "source": [
    "results15s = []\n",
    "for test_segment in test_segments_15s_russe:\n",
    "    mydict = {}\n",
    "    mydict[\"maxScore\"], mydict[\"predictedLanguage\"] = predict_language(test_segment, russian_gmm512, arabic_gmm512, \n",
    "                                                                   spanish_gmm512, english_gmm512, japanese_gmm512, \n",
    "                                                                   french_gmm512)\n",
    "    results15s.append(mydict)\n",
    "    \n",
    "for result in results15s:\n",
    "    print(\"MAX_Score:\", result[\"maxScore\"] ,\"--- Predicted Language:\", result[\"predictedLanguage\"] )"
   ]
  },
  {
   "cell_type": "code",
   "execution_count": 10,
   "id": "22e5c554",
   "metadata": {},
   "outputs": [
    {
     "name": "stderr",
     "output_type": "stream",
     "text": [
      "C:\\Anaconda\\lib\\site-packages\\sklearn\\metrics\\_ranking.py:1020: UndefinedMetricWarning: No negative samples in y_true, false positive value should be meaningless\n",
      "  warnings.warn(\n",
      "C:\\Anaconda\\lib\\site-packages\\sklearn\\metrics\\_ranking.py:1020: UndefinedMetricWarning: No negative samples in y_true, false positive value should be meaningless\n",
      "  warnings.warn(\n",
      "C:\\Anaconda\\lib\\site-packages\\sklearn\\metrics\\_ranking.py:1020: UndefinedMetricWarning: No negative samples in y_true, false positive value should be meaningless\n",
      "  warnings.warn(\n"
     ]
    },
    {
     "data": {
      "image/png": "[encoded data removed]",
      "text/plain": [
       "<Figure size 640x480 with 1 Axes>"
      ]
     },
     "metadata": {},
     "output_type": "display_data"
    }
   ],
   "source": [
    "import matplotlib.pyplot as plt\n",
    "from sklearn.metrics import roc_curve, auc\n",
    "\n",
    "# Get the predicted scores and true labels for Arabic with different thresholds\n",
    "scores5s = [result[\"maxScore\"] for result in results5s]\n",
    "labels5s = [1 if result[\"predictedLanguage\"] == \"japanese\" else 0 for result in results5s]\n",
    "\n",
    "scores10s = [result[\"maxScore\"] for result in results10s]\n",
    "labels10s = [1 if result[\"predictedLanguage\"] == \"japanese\" else 0 for result in results10s]\n",
    "\n",
    "scores15s = [result[\"maxScore\"] for result in results15s]\n",
    "labels15s = [1 if result[\"predictedLanguage\"] == \"japanese\" else 0 for result in results15s]\n",
    "\n",
    "# Compute the FPR, TPR, and AUC for each ROC curve\n",
    "fpr5s, tpr5s, thresholds5s = roc_curve(labels5s, scores5s,pos_label=1)\n",
    "roc_auc5s = auc(fpr5s, tpr5s)\n",
    "\n",
    "fpr10s, tpr10s, thresholds10s = roc_curve(labels10s, scores10s, pos_label=1)\n",
    "roc_auc10s = auc(fpr10s, tpr10s)\n",
    "\n",
    "fpr15s, tpr15s, thresholds15s = roc_curve(labels15s, scores15s,pos_label=1)\n",
    "roc_auc15s = auc(fpr15s, tpr15s)\n",
    "\n",
    "# Plot the ROC curves on the same figure\n",
    "plt.figure()\n",
    "plt.plot(fpr5s, tpr5s, color='darkorange', lw=2, label='ROC curve with threshold=5s (area = %0.2f)' % roc_auc5s)\n",
    "plt.plot(fpr10s, tpr10s, color='green', lw=2, label='ROC curve with threshold=10s (area = %0.2f)' % roc_auc10s)\n",
    "plt.plot(fpr15s, tpr15s, color='blue', lw=2, label='ROC curve with threshold=15s (area = %0.2f)' % roc_auc15s)\n",
    "plt.xlim([0.0, 1.0])\n",
    "plt.ylim([0.0, 1.05])\n",
    "plt.xlabel('False Positive Rate')\n",
    "plt.ylabel('True Positive Rate')\n",
    "plt.title('Receiver operating characteristic (ROC) for russian language detection')\n",
    "plt.legend(loc=\"lower right\")\n",
    "plt.show()\n"
   ]
  },
  {
   "cell_type": "code",
   "execution_count": null,
   "id": "03eb0438",
   "metadata": {},
   "outputs": [],
   "source": []
  }
 ],
 "metadata": {
  "kernelspec": {
   "display_name": "Python 3 (ipykernel)",
   "language": "python",
   "name": "python3"
  },
  "language_info": {
   "codemirror_mode": {
    "name": "ipython",
    "version": 3
   },
   "file_extension": ".py",
   "mimetype": "text/x-python",
   "name": "python",
   "nbconvert_exporter": "python",
   "pygments_lexer": "ipython3",
   "version": "3.10.9"
  }
 },
 "nbformat": 4,
 "nbformat_minor": 5
}
