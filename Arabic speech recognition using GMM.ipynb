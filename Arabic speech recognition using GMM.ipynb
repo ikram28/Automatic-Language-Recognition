{
 "cells": [
  {
   "cell_type": "markdown",
   "id": "875d4cfc",
   "metadata": {},
   "source": [
    "# Importing necassary libraries"
   ]
  },
  {
   "cell_type": "code",
   "execution_count": 2,
   "id": "0967e058",
   "metadata": {},
   "outputs": [],
   "source": [
    "import numpy as np\n",
    "import scipy.io\n",
    "from python_speech_features import mfcc\n",
    "import matplotlib.pyplot as plt\n",
    "import IPython.display as ipd\n",
    "import os\n",
    "from sklearn.model_selection import train_test_split\n",
    "from sklearn.utils import shuffle\n",
    "import soundfile as sf\n",
    "import random\n",
    "from sklearn.mixture import GaussianMixture\n",
    "from sklearn.preprocessing import StandardScaler\n",
    "import joblib\n",
    "import math\n",
    "import statistics\n",
    "\n",
    "\n"
   ]
  },
  {
   "cell_type": "markdown",
   "id": "c4696cd8",
   "metadata": {},
   "source": [
    "# Defining the function that reads the audios from a given path using scipy and returns 3 lists : audios, freqs, filepaths"
   ]
  },
  {
   "cell_type": "code",
   "execution_count": 3,
   "id": "3b439b37",
   "metadata": {},
   "outputs": [],
   "source": [
    "def read_audios(path):\n",
    "    audios = []\n",
    "    freqs = []\n",
    "    filepaths = []\n",
    "    #walking through the directory that contains the dataset and reading each file that has the .wav extension\n",
    "    for dp, dn, filenames in os.walk(path):\n",
    "        for filename in filenames:\n",
    "            if filename.endswith('.wav'):\n",
    "                filepath = os.path.join(dp, filename)\n",
    "                filepaths.append(filepath)\n",
    "                with open(filepath, \"rb\") as f:\n",
    "                    # load the audio using scipy\n",
    "                    freq, data = scipy.io.wavfile.read(f, mmap=False)\n",
    "                    # append the data and frequency to the respective lists\n",
    "                    audios.append(data)\n",
    "                    freqs.append(freq)\n",
    "    return audios, freqs, filepaths\n",
    "    "
   ]
  },
  {
   "cell_type": "markdown",
   "id": "98b86862",
   "metadata": {},
   "source": [
    "# Defining the funcyion that extracts the mfcc features then removes the frames of silence finally it saves the mffc features into a .txt file according to gender "
   ]
  },
  {
   "cell_type": "code",
   "execution_count": 4,
   "id": "bb308ced",
   "metadata": {},
   "outputs": [],
   "source": [
    "def extractMfccs_RemoveSilence_saveMfccs(audios,freqs,filepaths, directory):\n",
    "    mfccs = []\n",
    " \n",
    "    for audio, freq, filepath in zip(audios, freqs,filepaths):\n",
    "        # extract the MFCC features\n",
    "        mfcc_features = mfcc(audio, freq, winlen=0.025, winstep=0.01, numcep=13, nfilt=26, nfft= 2048, lowfreq=0,\n",
    "                         highfreq=None, preemph=0.97, ceplifter=22, appendEnergy=False)\n",
    "        \n",
    "        # calculate the energy\n",
    "        energy = np.sum(mfcc_features**2, axis=1)\n",
    "        # calculate the threshold for silence\n",
    "        threshold = np.mean(energy) * 0.4\n",
    "        #removing silence frames from mfccs\n",
    "        voiced_indices = np.where(energy > threshold)[0]\n",
    "        mfccs_voiced = mfcc_features[voiced_indices,:]\n",
    "        mfccs.append(mfccs_voiced)\n",
    "        \n",
    "        # print the shape of the MFCCs before and after removing silence\n",
    "        print(f\"MFCCs before removing silence: {mfcc_features.shape}\")\n",
    "        print(f\"MFCCs after removing silence: {mfccs_voiced.shape}\")\n",
    "        \n",
    "       #saving mffcs \n",
    "       # extract the gender information from the file name\n",
    "        gender = None\n",
    "        if 'hommes' in filepath:\n",
    "            gender = 'Hommes'\n",
    "        elif 'femmes' in filepath:\n",
    "            gender = 'Femmes'\n",
    "\n",
    "        # save the MFCCs to the appropriate directory based on gender\n",
    "        if gender is not None:\n",
    "            gender_dir = os.path.join(directory, gender)\n",
    "            if not os.path.exists(gender_dir):\n",
    "                os.makedirs(gender_dir)\n",
    "            mfcc_file = os.path.join(gender_dir,  os.path.splitext(os.path.basename(filepath))[0] + \".mfcc\")\n",
    "            np.savetxt(mfcc_file, mfccs_voiced, delimiter=',')\n",
    "            \n",
    "      \n",
    "    \n",
    "    return  mfccs"
   ]
  },
  {
   "cell_type": "markdown",
   "id": "5e389de8",
   "metadata": {},
   "source": [
    "# Defining the function that splits the extraced mfccs into training and testing sets : 2/3 from male directory for training and 2/3 from female "
   ]
  },
  {
   "cell_type": "code",
   "execution_count": 5,
   "id": "bf8259ff",
   "metadata": {},
   "outputs": [],
   "source": [
    "def train_test_split(mfcc_dir):\n",
    "    # create separate lists for male and female file paths\n",
    "    male_files = []\n",
    "    female_files = []\n",
    "    for root, dirs, files in os.walk(mfcc_dir):\n",
    "        for file in files:\n",
    "            if file.endswith('.mfcc'):\n",
    "                if 'Hommes' in root:\n",
    "                    male_files.append(os.path.join(root, file))\n",
    "                elif 'Femmes' in root:\n",
    "                    female_files.append(os.path.join(root, file))\n",
    "\n",
    "    # shuffle the male and female lists independently\n",
    "    random.shuffle(male_files)\n",
    "    random.shuffle(female_files)\n",
    "\n",
    "    # split the male and female lists into train and test based on the desired ratio\n",
    "    male_train = male_files[:int(2/3*len(male_files))]\n",
    "    male_test = male_files[int(2/3*len(male_files)):]\n",
    "\n",
    "    female_train = female_files[:int(2/3*len(female_files))]\n",
    "    female_test = female_files[int(2/3*len(female_files)):]\n",
    "\n",
    "    \n",
    "    \n",
    "    # merge the train and test lists for both male and female\n",
    "    train_files = male_train + female_train\n",
    "    test_files = male_test + female_test\n",
    "\n",
    "    # load the MFCC features from the saved files for the train and test sets\n",
    "    train_mfccs = []\n",
    "    test_mfccs = []\n",
    "\n",
    "    for file in train_files:\n",
    "        train_mfccs.append(np.loadtxt(file, delimiter=','))\n",
    "\n",
    "    for file in test_files:\n",
    "        test_mfccs.append(np.loadtxt(file, delimiter=','))\n",
    "\n",
    "    # print the shapes of the train and test MFCC feature arrays\n",
    "    print(f\"Train male MFCCs shape: {np.array(male_train).shape}\")\n",
    "    print(f\"Test male MFCCs shape: {np.array( male_test).shape}\")\n",
    "    print(f\"Train female MFCCs shape: {np.array(female_train).shape}\")\n",
    "    print(f\"Test female MFCCs shape: {np.array( female_test).shape}\")\n",
    "    print(f\"Train MFCCs shape: {np.array(train_mfccs).shape}\")\n",
    "    print(f\"Test MFCCs shape: {np.array(test_mfccs).shape}\")\n",
    "    \n",
    "    return train_mfccs, test_mfccs\n"
   ]
  },
  {
   "cell_type": "markdown",
   "id": "27d92499",
   "metadata": {},
   "source": [
    "# Defining the functions that train the different GMM models and than save them as a pkl file"
   ]
  },
  {
   "cell_type": "code",
   "execution_count": 5,
   "id": "b8bd0e12",
   "metadata": {},
   "outputs": [],
   "source": [
    "def gmm16(train_mfccs):\n",
    "    # Initialize the GMM model with 16 classes\n",
    "    gmm = GaussianMixture(n_components=16, covariance_type='diag', random_state=0)\n",
    "\n",
    "    # Fit the GMM model to the training data\n",
    "    gmm.fit(train_mfccs)\n",
    "    \n",
    "    # Save the trained GMM model to a file\n",
    "    joblib.dump(gmm, r'C:\\Users\\ASUS ROG STRIX\\Desktop\\Projet\\Langues\\gmm\\arabic\\gmm_model16_arabic.pkl')\n",
    "\n",
    "    return gmm\n"
   ]
  },
  {
   "cell_type": "code",
   "execution_count": 6,
   "id": "dacbf32b",
   "metadata": {},
   "outputs": [],
   "source": [
    "def gmm32(train_mfccs):\n",
    "    # Initialize the GMM model with 32 classes\n",
    "    gmm = GaussianMixture(n_components=32, covariance_type='diag', random_state=0)\n",
    "\n",
    "    # Fit the GMM model to the training data\n",
    "    gmm.fit(train_mfccs)\n",
    "    \n",
    "    # Save the trained GMM model to a file\n",
    "    joblib.dump(gmm, r'C:\\Users\\ASUS ROG STRIX\\Desktop\\Projet\\Langues\\gmm\\arabic\\gmm_model32_arabic.pkl')\n",
    "\n",
    "    return gmm"
   ]
  },
  {
   "cell_type": "code",
   "execution_count": 7,
   "id": "28b6eb22",
   "metadata": {},
   "outputs": [],
   "source": [
    "def gmm64(train_mfccs):\n",
    "    # Initialize the GMM model with 64 classes\n",
    "    gmm = GaussianMixture(n_components=64, covariance_type='diag', random_state=0)\n",
    "\n",
    "    # Fit the GMM model to the training data\n",
    "    gmm.fit(train_mfccs)\n",
    "    \n",
    "    # Save the trained GMM model to a file\n",
    "    joblib.dump(gmm, r'C:\\Users\\ASUS ROG STRIX\\Desktop\\Projet\\Langues\\gmm\\arabic\\gmm_model64_arabic.pkl')\n",
    "\n",
    "    return gmm"
   ]
  },
  {
   "cell_type": "code",
   "execution_count": 8,
   "id": "a0bc521f",
   "metadata": {},
   "outputs": [],
   "source": [
    "def gmm128(train_mfccs):\n",
    "    # Initialize the GMM model with 128 classes\n",
    "    gmm = GaussianMixture(n_components=128, covariance_type='diag', random_state=0)\n",
    "\n",
    "    # Fit the GMM model to the training data\n",
    "    gmm.fit(train_mfccs)\n",
    "    \n",
    "    # Save the trained GMM model to a file\n",
    "    joblib.dump(gmm, r'C:\\Users\\ASUS ROG STRIX\\Desktop\\Projet\\Langues\\gmm\\arabic\\gmm_model128_arabic.pkl')\n",
    "\n",
    "    return gmm"
   ]
  },
  {
   "cell_type": "code",
   "execution_count": 9,
   "id": "612098fc",
   "metadata": {},
   "outputs": [],
   "source": [
    "def gmm256(train_mfccs):\n",
    "    # Initialize the GMM model with 254 classes\n",
    "    gmm = GaussianMixture(n_components=256, covariance_type='diag', random_state=0)\n",
    "\n",
    "    # Fit the GMM model to the training data\n",
    "    gmm.fit(train_mfccs)\n",
    "    \n",
    "    # Save the trained GMM model to a file\n",
    "    joblib.dump(gmm, r'C:\\Users\\ASUS ROG STRIX\\Desktop\\Projet\\Langues\\gmm\\arabic\\gmm_model256_arabic.pkl')\n",
    "\n",
    "    return gmm"
   ]
  },
  {
   "cell_type": "code",
   "execution_count": 10,
   "id": "73ead42a",
   "metadata": {},
   "outputs": [],
   "source": [
    "def gmm512(train_mfccs):\n",
    "    # Initialize the GMM model with 254 classes\n",
    "    gmm = GaussianMixture(n_components=512, covariance_type='diag', random_state=0)\n",
    "\n",
    "    # Fit the GMM model to the training data\n",
    "    gmm.fit(train_mfccs)\n",
    "    \n",
    "    # Save the trained GMM model to a file\n",
    "    joblib.dump(gmm, r'C:\\Users\\ASUS ROG STRIX\\Desktop\\Projet\\Langues\\gmm\\arabic\\gmm_model512_arabic.pkl')\n",
    "\n",
    "    return gmm"
   ]
  },
  {
   "cell_type": "code",
   "execution_count": 11,
   "id": "cb48cf4d",
   "metadata": {},
   "outputs": [],
   "source": [
    "def gmm1024(train_mfccs):\n",
    "    # Initialize the GMM model with 254 classes\n",
    "    gmm = GaussianMixture(n_components=1024, covariance_type='diag', random_state=0)\n",
    "\n",
    "    # Fit the GMM model to the training data\n",
    "    gmm.fit(train_mfccs)\n",
    "    \n",
    "    # Save the trained GMM model to a file\n",
    "    joblib.dump(gmm, r'C:\\Users\\ASUS ROG STRIX\\Desktop\\Projet\\Langues\\gmm\\arabic\\gmm_model1024_arabic.pkl')\n",
    "\n",
    "    return gmm"
   ]
  },
  {
   "cell_type": "markdown",
   "id": "9e3054ab",
   "metadata": {},
   "source": [
    "# Getting the audios frequencies and filepaths from the russe directory using the function defined above"
   ]
  },
  {
   "cell_type": "code",
   "execution_count": 6,
   "id": "691321ce",
   "metadata": {},
   "outputs": [
    {
     "name": "stderr",
     "output_type": "stream",
     "text": [
      "C:\\Temp\\ipykernel_9124\\2069710646.py:13: WavFileWarning: Chunk (non-data) not understood, skipping it.\n",
      "  freq, data = scipy.io.wavfile.read(f, mmap=False)\n"
     ]
    }
   ],
   "source": [
    "audios, freqs, filepaths= read_audios(r'C:\\Users\\ASUS ROG STRIX\\Desktop\\Projet\\Langues\\dataset\\arabic')"
   ]
  },
  {
   "cell_type": "markdown",
   "id": "a10c8287",
   "metadata": {},
   "source": [
    "# Extracting the mfcc features - Removing silence and saving the mfccs"
   ]
  },
  {
   "cell_type": "code",
   "execution_count": 7,
   "id": "1cb16fef",
   "metadata": {
    "scrolled": true
   },
   "outputs": [
    {
     "name": "stdout",
     "output_type": "stream",
     "text": [
      "MFCCs before removing silence: (11999, 13)\n",
      "MFCCs after removing silence: (11674, 13)\n",
      "MFCCs before removing silence: (397, 13)\n",
      "MFCCs after removing silence: (397, 13)\n",
      "MFCCs before removing silence: (357, 13)\n",
      "MFCCs after removing silence: (265, 13)\n",
      "MFCCs before removing silence: (345, 13)\n",
      "MFCCs after removing silence: (211, 13)\n",
      "MFCCs before removing silence: (733, 13)\n",
      "MFCCs after removing silence: (519, 13)\n",
      "MFCCs before removing silence: (385, 13)\n",
      "MFCCs after removing silence: (250, 13)\n",
      "MFCCs before removing silence: (385, 13)\n",
      "MFCCs after removing silence: (285, 13)\n",
      "MFCCs before removing silence: (277, 13)\n",
      "MFCCs after removing silence: (162, 13)\n",
      "MFCCs before removing silence: (385, 13)\n",
      "MFCCs after removing silence: (281, 13)\n",
      "MFCCs before removing silence: (297, 13)\n",
      "MFCCs after removing silence: (216, 13)\n",
      "MFCCs before removing silence: (405, 13)\n",
      "MFCCs after removing silence: (220, 13)\n",
      "MFCCs before removing silence: (297, 13)\n",
      "MFCCs after removing silence: (201, 13)\n",
      "MFCCs before removing silence: (397, 13)\n",
      "MFCCs after removing silence: (279, 13)\n",
      "MFCCs before removing silence: (337, 13)\n",
      "MFCCs after removing silence: (243, 13)\n",
      "MFCCs before removing silence: (337, 13)\n",
      "MFCCs after removing silence: (230, 13)\n",
      "MFCCs before removing silence: (405, 13)\n",
      "MFCCs after removing silence: (286, 13)\n",
      "MFCCs before removing silence: (297, 13)\n",
      "MFCCs after removing silence: (206, 13)\n",
      "MFCCs before removing silence: (429, 13)\n",
      "MFCCs after removing silence: (278, 13)\n",
      "MFCCs before removing silence: (429, 13)\n",
      "MFCCs after removing silence: (331, 13)\n",
      "MFCCs before removing silence: (385, 13)\n",
      "MFCCs after removing silence: (283, 13)\n",
      "MFCCs before removing silence: (241, 13)\n",
      "MFCCs after removing silence: (174, 13)\n",
      "MFCCs before removing silence: (277, 13)\n",
      "MFCCs after removing silence: (197, 13)\n",
      "MFCCs before removing silence: (325, 13)\n",
      "MFCCs after removing silence: (208, 13)\n",
      "MFCCs before removing silence: (273, 13)\n",
      "MFCCs after removing silence: (183, 13)\n",
      "MFCCs before removing silence: (309, 13)\n",
      "MFCCs after removing silence: (191, 13)\n",
      "MFCCs before removing silence: (321, 13)\n",
      "MFCCs after removing silence: (210, 13)\n",
      "MFCCs before removing silence: (313, 13)\n",
      "MFCCs after removing silence: (237, 13)\n",
      "MFCCs before removing silence: (373, 13)\n",
      "MFCCs after removing silence: (195, 13)\n",
      "MFCCs before removing silence: (393, 13)\n",
      "MFCCs after removing silence: (297, 13)\n",
      "MFCCs before removing silence: (289, 13)\n",
      "MFCCs after removing silence: (190, 13)\n",
      "MFCCs before removing silence: (585, 13)\n",
      "MFCCs after removing silence: (486, 13)\n",
      "MFCCs before removing silence: (297, 13)\n",
      "MFCCs after removing silence: (213, 13)\n",
      "MFCCs before removing silence: (361, 13)\n",
      "MFCCs after removing silence: (246, 13)\n",
      "MFCCs before removing silence: (265, 13)\n",
      "MFCCs after removing silence: (173, 13)\n",
      "MFCCs before removing silence: (369, 13)\n",
      "MFCCs after removing silence: (229, 13)\n",
      "MFCCs before removing silence: (297, 13)\n",
      "MFCCs after removing silence: (213, 13)\n",
      "MFCCs before removing silence: (277, 13)\n",
      "MFCCs after removing silence: (184, 13)\n",
      "MFCCs before removing silence: (297, 13)\n",
      "MFCCs after removing silence: (217, 13)\n",
      "MFCCs before removing silence: (309, 13)\n",
      "MFCCs after removing silence: (210, 13)\n",
      "MFCCs before removing silence: (285, 13)\n",
      "MFCCs after removing silence: (147, 13)\n",
      "MFCCs before removing silence: (265, 13)\n",
      "MFCCs after removing silence: (163, 13)\n",
      "MFCCs before removing silence: (621, 13)\n",
      "MFCCs after removing silence: (482, 13)\n",
      "MFCCs before removing silence: (361, 13)\n",
      "MFCCs after removing silence: (260, 13)\n",
      "MFCCs before removing silence: (385, 13)\n",
      "MFCCs after removing silence: (231, 13)\n",
      "MFCCs before removing silence: (309, 13)\n",
      "MFCCs after removing silence: (224, 13)\n",
      "MFCCs before removing silence: (225, 13)\n",
      "MFCCs after removing silence: (179, 13)\n",
      "MFCCs before removing silence: (397, 13)\n",
      "MFCCs after removing silence: (257, 13)\n",
      "MFCCs before removing silence: (285, 13)\n",
      "MFCCs after removing silence: (196, 13)\n",
      "MFCCs before removing silence: (297, 13)\n",
      "MFCCs after removing silence: (216, 13)\n",
      "MFCCs before removing silence: (577, 13)\n",
      "MFCCs after removing silence: (466, 13)\n",
      "MFCCs before removing silence: (385, 13)\n",
      "MFCCs after removing silence: (278, 13)\n",
      "MFCCs before removing silence: (333, 13)\n",
      "MFCCs after removing silence: (221, 13)\n",
      "MFCCs before removing silence: (349, 13)\n",
      "MFCCs after removing silence: (228, 13)\n",
      "MFCCs before removing silence: (313, 13)\n",
      "MFCCs after removing silence: (212, 13)\n",
      "MFCCs before removing silence: (321, 13)\n",
      "MFCCs after removing silence: (179, 13)\n",
      "MFCCs before removing silence: (357, 13)\n",
      "MFCCs after removing silence: (357, 13)\n",
      "MFCCs before removing silence: (265, 13)\n",
      "MFCCs after removing silence: (159, 13)\n",
      "MFCCs before removing silence: (285, 13)\n",
      "MFCCs after removing silence: (170, 13)\n",
      "MFCCs before removing silence: (237, 13)\n",
      "MFCCs after removing silence: (201, 13)\n",
      "MFCCs before removing silence: (309, 13)\n",
      "MFCCs after removing silence: (201, 13)\n",
      "MFCCs before removing silence: (301, 13)\n",
      "MFCCs after removing silence: (163, 13)\n",
      "MFCCs before removing silence: (313, 13)\n",
      "MFCCs after removing silence: (183, 13)\n",
      "MFCCs before removing silence: (337, 13)\n",
      "MFCCs after removing silence: (157, 13)\n",
      "MFCCs before removing silence: (1008, 13)\n",
      "MFCCs after removing silence: (909, 13)\n",
      "MFCCs before removing silence: (1503, 13)\n",
      "MFCCs after removing silence: (1422, 13)\n",
      "MFCCs before removing silence: (397, 13)\n",
      "MFCCs after removing silence: (391, 13)\n",
      "MFCCs before removing silence: (500, 13)\n",
      "MFCCs after removing silence: (453, 13)\n",
      "MFCCs before removing silence: (277, 13)\n",
      "MFCCs after removing silence: (178, 13)\n",
      "MFCCs before removing silence: (11997, 13)\n",
      "MFCCs after removing silence: (10612, 13)\n",
      "MFCCs before removing silence: (337, 13)\n",
      "MFCCs after removing silence: (265, 13)\n",
      "MFCCs before removing silence: (345, 13)\n",
      "MFCCs after removing silence: (265, 13)\n",
      "MFCCs before removing silence: (381, 13)\n",
      "MFCCs after removing silence: (248, 13)\n",
      "MFCCs before removing silence: (373, 13)\n",
      "MFCCs after removing silence: (238, 13)\n",
      "MFCCs before removing silence: (373, 13)\n",
      "MFCCs after removing silence: (298, 13)\n",
      "MFCCs before removing silence: (501, 13)\n",
      "MFCCs after removing silence: (372, 13)\n",
      "MFCCs before removing silence: (313, 13)\n",
      "MFCCs after removing silence: (180, 13)\n",
      "MFCCs before removing silence: (337, 13)\n",
      "MFCCs after removing silence: (220, 13)\n",
      "MFCCs before removing silence: (325, 13)\n",
      "MFCCs after removing silence: (260, 13)\n",
      "MFCCs before removing silence: (7413, 13)\n",
      "MFCCs after removing silence: (6548, 13)\n",
      "MFCCs before removing silence: (469, 13)\n",
      "MFCCs after removing silence: (331, 13)\n",
      "MFCCs before removing silence: (409, 13)\n",
      "MFCCs after removing silence: (290, 13)\n",
      "MFCCs before removing silence: (321, 13)\n",
      "MFCCs after removing silence: (321, 13)\n",
      "MFCCs before removing silence: (289, 13)\n",
      "MFCCs after removing silence: (151, 13)\n",
      "MFCCs before removing silence: (457, 13)\n",
      "MFCCs after removing silence: (316, 13)\n",
      "MFCCs before removing silence: (517, 13)\n",
      "MFCCs after removing silence: (388, 13)\n",
      "MFCCs before removing silence: (385, 13)\n",
      "MFCCs after removing silence: (235, 13)\n",
      "MFCCs before removing silence: (313, 13)\n",
      "MFCCs after removing silence: (313, 13)\n",
      "MFCCs before removing silence: (321, 13)\n",
      "MFCCs after removing silence: (321, 13)\n",
      "MFCCs before removing silence: (357, 13)\n",
      "MFCCs after removing silence: (246, 13)\n",
      "MFCCs before removing silence: (8183, 13)\n",
      "MFCCs after removing silence: (7550, 13)\n",
      "MFCCs before removing silence: (309, 13)\n",
      "MFCCs after removing silence: (206, 13)\n",
      "MFCCs before removing silence: (385, 13)\n",
      "MFCCs after removing silence: (279, 13)\n",
      "MFCCs before removing silence: (417, 13)\n",
      "MFCCs after removing silence: (416, 13)\n",
      "MFCCs before removing silence: (229, 13)\n",
      "MFCCs after removing silence: (175, 13)\n",
      "MFCCs before removing silence: (297, 13)\n",
      "MFCCs after removing silence: (185, 13)\n",
      "MFCCs before removing silence: (337, 13)\n",
      "MFCCs after removing silence: (204, 13)\n",
      "MFCCs before removing silence: (333, 13)\n",
      "MFCCs after removing silence: (190, 13)\n",
      "MFCCs before removing silence: (253, 13)\n",
      "MFCCs after removing silence: (193, 13)\n",
      "MFCCs before removing silence: (7816, 13)\n",
      "MFCCs after removing silence: (7616, 13)\n",
      "MFCCs before removing silence: (337, 13)\n",
      "MFCCs after removing silence: (235, 13)\n",
      "MFCCs before removing silence: (465, 13)\n",
      "MFCCs after removing silence: (306, 13)\n"
     ]
    },
    {
     "name": "stdout",
     "output_type": "stream",
     "text": [
      "MFCCs before removing silence: (577, 13)\n",
      "MFCCs after removing silence: (415, 13)\n",
      "MFCCs before removing silence: (421, 13)\n",
      "MFCCs after removing silence: (311, 13)\n",
      "MFCCs before removing silence: (373, 13)\n",
      "MFCCs after removing silence: (238, 13)\n",
      "MFCCs before removing silence: (361, 13)\n",
      "MFCCs after removing silence: (236, 13)\n",
      "MFCCs before removing silence: (289, 13)\n",
      "MFCCs after removing silence: (187, 13)\n",
      "MFCCs before removing silence: (361, 13)\n",
      "MFCCs after removing silence: (238, 13)\n",
      "MFCCs before removing silence: (4499, 13)\n",
      "MFCCs after removing silence: (4294, 13)\n",
      "MFCCs before removing silence: (453, 13)\n",
      "MFCCs after removing silence: (240, 13)\n",
      "MFCCs before removing silence: (565, 13)\n",
      "MFCCs after removing silence: (404, 13)\n",
      "MFCCs before removing silence: (277, 13)\n",
      "MFCCs after removing silence: (160, 13)\n",
      "MFCCs before removing silence: (325, 13)\n",
      "MFCCs after removing silence: (190, 13)\n",
      "MFCCs before removing silence: (517, 13)\n",
      "MFCCs after removing silence: (395, 13)\n",
      "MFCCs before removing silence: (357, 13)\n",
      "MFCCs after removing silence: (233, 13)\n",
      "MFCCs before removing silence: (337, 13)\n",
      "MFCCs after removing silence: (197, 13)\n",
      "MFCCs before removing silence: (289, 13)\n",
      "MFCCs after removing silence: (201, 13)\n",
      "MFCCs before removing silence: (6049, 13)\n",
      "MFCCs after removing silence: (5589, 13)\n",
      "MFCCs before removing silence: (273, 13)\n",
      "MFCCs after removing silence: (172, 13)\n",
      "MFCCs before removing silence: (537, 13)\n",
      "MFCCs after removing silence: (393, 13)\n",
      "MFCCs before removing silence: (397, 13)\n",
      "MFCCs after removing silence: (251, 13)\n",
      "MFCCs before removing silence: (469, 13)\n",
      "MFCCs after removing silence: (362, 13)\n",
      "MFCCs before removing silence: (309, 13)\n",
      "MFCCs after removing silence: (176, 13)\n",
      "MFCCs before removing silence: (277, 13)\n",
      "MFCCs after removing silence: (160, 13)\n",
      "MFCCs before removing silence: (345, 13)\n",
      "MFCCs after removing silence: (285, 13)\n",
      "MFCCs before removing silence: (661, 13)\n",
      "MFCCs after removing silence: (522, 13)\n",
      "MFCCs before removing silence: (477, 13)\n",
      "MFCCs after removing silence: (335, 13)\n",
      "MFCCs before removing silence: (297, 13)\n",
      "MFCCs after removing silence: (233, 13)\n",
      "MFCCs before removing silence: (361, 13)\n",
      "MFCCs after removing silence: (217, 13)\n",
      "MFCCs before removing silence: (325, 13)\n",
      "MFCCs after removing silence: (213, 13)\n",
      "MFCCs before removing silence: (553, 13)\n",
      "MFCCs after removing silence: (444, 13)\n",
      "MFCCs before removing silence: (273, 13)\n",
      "MFCCs after removing silence: (215, 13)\n",
      "MFCCs before removing silence: (369, 13)\n",
      "MFCCs after removing silence: (248, 13)\n",
      "MFCCs before removing silence: (321, 13)\n",
      "MFCCs after removing silence: (206, 13)\n",
      "MFCCs before removing silence: (313, 13)\n",
      "MFCCs after removing silence: (222, 13)\n",
      "MFCCs before removing silence: (345, 13)\n",
      "MFCCs after removing silence: (258, 13)\n",
      "MFCCs before removing silence: (700, 13)\n",
      "MFCCs after removing silence: (689, 13)\n",
      "MFCCs before removing silence: (957, 13)\n",
      "MFCCs after removing silence: (939, 13)\n",
      "MFCCs before removing silence: (1014, 13)\n",
      "MFCCs after removing silence: (999, 13)\n",
      "MFCCs before removing silence: (1801, 13)\n",
      "MFCCs after removing silence: (1776, 13)\n",
      "MFCCs before removing silence: (1392, 13)\n",
      "MFCCs after removing silence: (1373, 13)\n",
      "MFCCs before removing silence: (613, 13)\n",
      "MFCCs after removing silence: (601, 13)\n",
      "MFCCs before removing silence: (12332, 13)\n",
      "MFCCs after removing silence: (12080, 13)\n",
      "MFCCs before removing silence: (12009, 13)\n",
      "MFCCs after removing silence: (11981, 13)\n",
      "MFCCs before removing silence: (12002, 13)\n",
      "MFCCs after removing silence: (12002, 13)\n",
      "MFCCs before removing silence: (18208, 13)\n",
      "MFCCs after removing silence: (17953, 13)\n",
      "MFCCs before removing silence: (11999, 13)\n",
      "MFCCs after removing silence: (11901, 13)\n",
      "MFCCs before removing silence: (11622, 13)\n",
      "MFCCs after removing silence: (11581, 13)\n",
      "MFCCs before removing silence: (12061, 13)\n",
      "MFCCs after removing silence: (11869, 13)\n",
      "MFCCs before removing silence: (12002, 13)\n",
      "MFCCs after removing silence: (12002, 13)\n",
      "MFCCs before removing silence: (700, 13)\n",
      "MFCCs after removing silence: (689, 13)\n",
      "MFCCs before removing silence: (341, 13)\n",
      "MFCCs after removing silence: (268, 13)\n",
      "MFCCs before removing silence: (1209, 13)\n",
      "MFCCs after removing silence: (1118, 13)\n",
      "MFCCs before removing silence: (1770, 13)\n",
      "MFCCs after removing silence: (1393, 13)\n",
      "MFCCs before removing silence: (957, 13)\n",
      "MFCCs after removing silence: (854, 13)\n",
      "MFCCs before removing silence: (327, 13)\n",
      "MFCCs after removing silence: (258, 13)\n",
      "MFCCs before removing silence: (582, 13)\n",
      "MFCCs after removing silence: (578, 13)\n",
      "MFCCs before removing silence: (834, 13)\n",
      "MFCCs after removing silence: (831, 13)\n",
      "MFCCs before removing silence: (611, 13)\n",
      "MFCCs after removing silence: (466, 13)\n",
      "MFCCs before removing silence: (4199, 13)\n",
      "MFCCs after removing silence: (4186, 13)\n",
      "MFCCs before removing silence: (363, 13)\n",
      "MFCCs after removing silence: (301, 13)\n",
      "MFCCs before removing silence: (301, 13)\n",
      "MFCCs after removing silence: (300, 13)\n",
      "MFCCs before removing silence: (391, 13)\n",
      "MFCCs after removing silence: (390, 13)\n",
      "MFCCs before removing silence: (11999, 13)\n",
      "MFCCs after removing silence: (11901, 13)\n",
      "MFCCs before removing silence: (539, 13)\n",
      "MFCCs after removing silence: (459, 13)\n",
      "MFCCs before removing silence: (467, 13)\n",
      "MFCCs after removing silence: (369, 13)\n",
      "MFCCs before removing silence: (575, 13)\n",
      "MFCCs after removing silence: (570, 13)\n",
      "MFCCs before removing silence: (345, 13)\n",
      "MFCCs after removing silence: (343, 13)\n",
      "MFCCs before removing silence: (233, 13)\n",
      "MFCCs after removing silence: (191, 13)\n",
      "MFCCs before removing silence: (219, 13)\n",
      "MFCCs after removing silence: (187, 13)\n",
      "MFCCs before removing silence: (237, 13)\n",
      "MFCCs after removing silence: (228, 13)\n",
      "MFCCs before removing silence: (654, 13)\n",
      "MFCCs after removing silence: (651, 13)\n",
      "MFCCs before removing silence: (12009, 13)\n",
      "MFCCs after removing silence: (11981, 13)\n",
      "MFCCs before removing silence: (633, 13)\n",
      "MFCCs after removing silence: (590, 13)\n",
      "MFCCs before removing silence: (1245, 13)\n",
      "MFCCs after removing silence: (1243, 13)\n",
      "MFCCs before removing silence: (863, 13)\n",
      "MFCCs after removing silence: (636, 13)\n",
      "MFCCs before removing silence: (640, 13)\n",
      "MFCCs after removing silence: (639, 13)\n",
      "MFCCs before removing silence: (885, 13)\n",
      "MFCCs after removing silence: (624, 13)\n",
      "MFCCs before removing silence: (442, 13)\n",
      "MFCCs after removing silence: (438, 13)\n",
      "MFCCs before removing silence: (287, 13)\n",
      "MFCCs after removing silence: (246, 13)\n",
      "MFCCs before removing silence: (550, 13)\n",
      "MFCCs after removing silence: (441, 13)\n",
      "MFCCs before removing silence: (669, 13)\n",
      "MFCCs after removing silence: (491, 13)\n",
      "MFCCs before removing silence: (654, 13)\n",
      "MFCCs after removing silence: (650, 13)\n",
      "MFCCs before removing silence: (12002, 13)\n",
      "MFCCs after removing silence: (12002, 13)\n",
      "MFCCs before removing silence: (1151, 13)\n",
      "MFCCs after removing silence: (1148, 13)\n",
      "MFCCs before removing silence: (669, 13)\n",
      "MFCCs after removing silence: (666, 13)\n",
      "MFCCs before removing silence: (460, 13)\n",
      "MFCCs after removing silence: (458, 13)\n",
      "MFCCs before removing silence: (964, 13)\n",
      "MFCCs after removing silence: (961, 13)\n",
      "MFCCs before removing silence: (258, 13)\n",
      "MFCCs after removing silence: (257, 13)\n",
      "MFCCs before removing silence: (388, 13)\n",
      "MFCCs after removing silence: (295, 13)\n",
      "MFCCs before removing silence: (690, 13)\n",
      "MFCCs after removing silence: (498, 13)\n",
      "MFCCs before removing silence: (1547, 13)\n",
      "MFCCs after removing silence: (1320, 13)\n",
      "MFCCs before removing silence: (597, 13)\n",
      "MFCCs after removing silence: (437, 13)\n",
      "MFCCs before removing silence: (726, 13)\n",
      "MFCCs after removing silence: (525, 13)\n",
      "MFCCs before removing silence: (12061, 13)\n",
      "MFCCs after removing silence: (11869, 13)\n",
      "MFCCs before removing silence: (1511, 13)\n",
      "MFCCs after removing silence: (1218, 13)\n",
      "MFCCs before removing silence: (1050, 13)\n",
      "MFCCs after removing silence: (852, 13)\n",
      "MFCCs before removing silence: (561, 13)\n",
      "MFCCs after removing silence: (457, 13)\n",
      "MFCCs before removing silence: (489, 13)\n",
      "MFCCs after removing silence: (352, 13)\n",
      "MFCCs before removing silence: (370, 13)\n",
      "MFCCs after removing silence: (320, 13)\n",
      "MFCCs before removing silence: (1237, 13)\n",
      "MFCCs after removing silence: (1233, 13)\n",
      "MFCCs before removing silence: (604, 13)\n",
      "MFCCs after removing silence: (602, 13)\n",
      "MFCCs before removing silence: (553, 13)\n",
      "MFCCs after removing silence: (550, 13)\n"
     ]
    },
    {
     "name": "stdout",
     "output_type": "stream",
     "text": [
      "MFCCs before removing silence: (499, 13)\n",
      "MFCCs after removing silence: (498, 13)\n",
      "MFCCs before removing silence: (467, 13)\n",
      "MFCCs after removing silence: (306, 13)\n",
      "MFCCs before removing silence: (957, 13)\n",
      "MFCCs after removing silence: (939, 13)\n",
      "MFCCs before removing silence: (726, 13)\n",
      "MFCCs after removing silence: (616, 13)\n",
      "MFCCs before removing silence: (561, 13)\n",
      "MFCCs after removing silence: (452, 13)\n",
      "MFCCs before removing silence: (359, 13)\n",
      "MFCCs after removing silence: (299, 13)\n",
      "MFCCs before removing silence: (298, 13)\n",
      "MFCCs after removing silence: (262, 13)\n",
      "MFCCs before removing silence: (273, 13)\n",
      "MFCCs after removing silence: (211, 13)\n",
      "MFCCs before removing silence: (633, 13)\n",
      "MFCCs after removing silence: (433, 13)\n",
      "MFCCs before removing silence: (647, 13)\n",
      "MFCCs after removing silence: (462, 13)\n",
      "MFCCs before removing silence: (1353, 13)\n",
      "MFCCs after removing silence: (1139, 13)\n",
      "MFCCs before removing silence: (1115, 13)\n",
      "MFCCs after removing silence: (1066, 13)\n",
      "MFCCs before removing silence: (273, 13)\n",
      "MFCCs after removing silence: (208, 13)\n",
      "MFCCs before removing silence: (1014, 13)\n",
      "MFCCs after removing silence: (999, 13)\n",
      "MFCCs before removing silence: (507, 13)\n",
      "MFCCs after removing silence: (435, 13)\n",
      "MFCCs before removing silence: (471, 13)\n",
      "MFCCs after removing silence: (470, 13)\n",
      "MFCCs before removing silence: (611, 13)\n",
      "MFCCs after removing silence: (611, 13)\n",
      "MFCCs before removing silence: (525, 13)\n",
      "MFCCs after removing silence: (524, 13)\n",
      "MFCCs before removing silence: (424, 13)\n",
      "MFCCs after removing silence: (367, 13)\n",
      "MFCCs before removing silence: (741, 13)\n",
      "MFCCs after removing silence: (584, 13)\n",
      "MFCCs before removing silence: (690, 13)\n",
      "MFCCs after removing silence: (505, 13)\n",
      "MFCCs before removing silence: (1698, 13)\n",
      "MFCCs after removing silence: (1423, 13)\n",
      "MFCCs before removing silence: (597, 13)\n",
      "MFCCs after removing silence: (476, 13)\n",
      "MFCCs before removing silence: (1079, 13)\n",
      "MFCCs after removing silence: (902, 13)\n",
      "MFCCs before removing silence: (1801, 13)\n",
      "MFCCs after removing silence: (1776, 13)\n",
      "MFCCs before removing silence: (370, 13)\n",
      "MFCCs after removing silence: (264, 13)\n",
      "MFCCs before removing silence: (489, 13)\n",
      "MFCCs after removing silence: (483, 13)\n",
      "MFCCs before removing silence: (345, 13)\n",
      "MFCCs after removing silence: (344, 13)\n",
      "MFCCs before removing silence: (1043, 13)\n",
      "MFCCs after removing silence: (869, 13)\n",
      "MFCCs before removing silence: (399, 13)\n",
      "MFCCs after removing silence: (327, 13)\n",
      "MFCCs before removing silence: (633, 13)\n",
      "MFCCs after removing silence: (457, 13)\n",
      "MFCCs before removing silence: (489, 13)\n",
      "MFCCs after removing silence: (318, 13)\n",
      "MFCCs before removing silence: (827, 13)\n",
      "MFCCs after removing silence: (661, 13)\n",
      "MFCCs before removing silence: (597, 13)\n",
      "MFCCs after removing silence: (480, 13)\n",
      "MFCCs before removing silence: (971, 13)\n",
      "MFCCs after removing silence: (795, 13)\n",
      "MFCCs before removing silence: (863, 13)\n",
      "MFCCs after removing silence: (691, 13)\n",
      "MFCCs before removing silence: (1392, 13)\n",
      "MFCCs after removing silence: (1373, 13)\n",
      "MFCCs before removing silence: (665, 13)\n",
      "MFCCs after removing silence: (493, 13)\n",
      "MFCCs before removing silence: (899, 13)\n",
      "MFCCs after removing silence: (712, 13)\n",
      "MFCCs before removing silence: (683, 13)\n",
      "MFCCs after removing silence: (563, 13)\n",
      "MFCCs before removing silence: (467, 13)\n",
      "MFCCs after removing silence: (422, 13)\n",
      "MFCCs before removing silence: (798, 13)\n",
      "MFCCs after removing silence: (629, 13)\n",
      "MFCCs before removing silence: (269, 13)\n",
      "MFCCs after removing silence: (198, 13)\n",
      "MFCCs before removing silence: (838, 13)\n",
      "MFCCs after removing silence: (837, 13)\n",
      "MFCCs before removing silence: (712, 13)\n",
      "MFCCs after removing silence: (615, 13)\n",
      "MFCCs before removing silence: (705, 13)\n",
      "MFCCs after removing silence: (701, 13)\n",
      "MFCCs before removing silence: (647, 13)\n",
      "MFCCs after removing silence: (521, 13)\n",
      "MFCCs before removing silence: (539, 13)\n",
      "MFCCs after removing silence: (535, 13)\n",
      "MFCCs before removing silence: (613, 13)\n",
      "MFCCs after removing silence: (601, 13)\n",
      "MFCCs before removing silence: (345, 13)\n",
      "MFCCs after removing silence: (289, 13)\n",
      "MFCCs before removing silence: (1021, 13)\n",
      "MFCCs after removing silence: (1018, 13)\n",
      "MFCCs before removing silence: (471, 13)\n",
      "MFCCs after removing silence: (402, 13)\n",
      "MFCCs before removing silence: (298, 13)\n",
      "MFCCs after removing silence: (234, 13)\n",
      "MFCCs before removing silence: (323, 13)\n",
      "MFCCs after removing silence: (295, 13)\n",
      "MFCCs before removing silence: (1338, 13)\n",
      "MFCCs after removing silence: (1164, 13)\n",
      "MFCCs before removing silence: (503, 13)\n",
      "MFCCs after removing silence: (416, 13)\n",
      "MFCCs before removing silence: (906, 13)\n",
      "MFCCs after removing silence: (821, 13)\n",
      "MFCCs before removing silence: (489, 13)\n",
      "MFCCs after removing silence: (427, 13)\n",
      "MFCCs before removing silence: (539, 13)\n",
      "MFCCs after removing silence: (382, 13)\n",
      "MFCCs before removing silence: (885, 13)\n",
      "MFCCs after removing silence: (721, 13)\n"
     ]
    }
   ],
   "source": [
    "mfccs = extractMfccs_RemoveSilence_saveMfccs(audios, freqs, filepaths,r'C:\\Users\\ASUS ROG STRIX\\Desktop\\Projet\\Langues\\mfcc\\arabic')"
   ]
  },
  {
   "cell_type": "markdown",
   "id": "8699558f",
   "metadata": {},
   "source": [
    "## -----> We can see here that the size of the mfcc features has decreased after removing the frames ot silence"
   ]
  },
  {
   "cell_type": "markdown",
   "id": "f653af91",
   "metadata": {},
   "source": [
    "# Splitting into teest and train sets according to gender"
   ]
  },
  {
   "cell_type": "code",
   "execution_count": 8,
   "id": "88efb508",
   "metadata": {
    "scrolled": true
   },
   "outputs": [
    {
     "name": "stdout",
     "output_type": "stream",
     "text": [
      "Train male MFCCs shape: (84,)\n",
      "Test male MFCCs shape: (43,)\n",
      "Train female MFCCs shape: (90,)\n",
      "Test female MFCCs shape: (45,)\n",
      "Train MFCCs shape: (174,)\n",
      "Test MFCCs shape: (88,)\n"
     ]
    },
    {
     "name": "stderr",
     "output_type": "stream",
     "text": [
      "C:\\Temp\\ipykernel_9124\\3397580047.py:45: VisibleDeprecationWarning: Creating an ndarray from ragged nested sequences (which is a list-or-tuple of lists-or-tuples-or ndarrays with different lengths or shapes) is deprecated. If you meant to do this, you must specify 'dtype=object' when creating the ndarray.\n",
      "  print(f\"Train MFCCs shape: {np.array(train_mfccs).shape}\")\n",
      "C:\\Temp\\ipykernel_9124\\3397580047.py:46: VisibleDeprecationWarning: Creating an ndarray from ragged nested sequences (which is a list-or-tuple of lists-or-tuples-or ndarrays with different lengths or shapes) is deprecated. If you meant to do this, you must specify 'dtype=object' when creating the ndarray.\n",
      "  print(f\"Test MFCCs shape: {np.array(test_mfccs).shape}\")\n"
     ]
    }
   ],
   "source": [
    "train_mfccs, test_mfccs = train_test_split(r'C:\\Users\\ASUS ROG STRIX\\Desktop\\Projet\\Langues\\mfcc\\arabic')"
   ]
  },
  {
   "cell_type": "markdown",
   "id": "45dc7d97",
   "metadata": {},
   "source": [
    "# Stacking vertically the train and test MFCC features so that we can fit the gmm models"
   ]
  },
  {
   "cell_type": "code",
   "execution_count": 10,
   "id": "c1453682",
   "metadata": {},
   "outputs": [],
   "source": [
    "#stack vertically the train MFCC features \n",
    "mfcc_train = []\n",
    "for train_mfcc in train_mfccs:\n",
    "    mfcc_train.append(train_mfcc)\n",
    "mfcc_train = np.concatenate(mfcc_train, axis=0)\n",
    "\n",
    "#stack vertically the test MFCC features \n",
    "mfcc_test = []\n",
    "for test_mfcc in test_mfccs:\n",
    "    mfcc_test.append(test_mfcc)\n",
    "mfcc_test = np.concatenate(mfcc_test, axis=0)\n"
   ]
  },
  {
   "cell_type": "markdown",
   "id": "20a5ad86",
   "metadata": {},
   "source": [
    "# Saving the test set into a txt file "
   ]
  },
  {
   "cell_type": "code",
   "execution_count": 16,
   "id": "c8254a5c",
   "metadata": {},
   "outputs": [],
   "source": [
    "#Save the test mfccs in a file\n",
    "test_mfccs = np.vstack(test_mfccs)\n",
    "test_mfccs = np.array(test_mfccs, dtype=float)\n",
    "np.savetxt(r'C:\\Users\\ASUS ROG STRIX\\Desktop\\Projet\\Langues\\gmm\\Test\\arabicTest', test_mfccs, delimiter=',')\n",
    "\n"
   ]
  },
  {
   "cell_type": "code",
   "execution_count": 11,
   "id": "7274389a",
   "metadata": {},
   "outputs": [
    {
     "data": {
      "text/plain": [
       "(171671, 13)"
      ]
     },
     "execution_count": 11,
     "metadata": {},
     "output_type": "execute_result"
    }
   ],
   "source": [
    "mfcc_train.shape"
   ]
  },
  {
   "cell_type": "markdown",
   "id": "fdc952bc",
   "metadata": {},
   "source": [
    "# Training the different Gmm Models "
   ]
  },
  {
   "cell_type": "code",
   "execution_count": 17,
   "id": "d7f1788a",
   "metadata": {},
   "outputs": [],
   "source": [
    "gmm16 = gmm16(mfcc_train)"
   ]
  },
  {
   "cell_type": "code",
   "execution_count": 18,
   "id": "caf46091",
   "metadata": {},
   "outputs": [],
   "source": [
    "gmm32 = gmm32(mfcc_train)"
   ]
  },
  {
   "cell_type": "code",
   "execution_count": 19,
   "id": "7f95e8c5",
   "metadata": {},
   "outputs": [],
   "source": [
    "gmm64 = gmm64(mfcc_train)"
   ]
  },
  {
   "cell_type": "code",
   "execution_count": 20,
   "id": "60fcf0ca",
   "metadata": {},
   "outputs": [],
   "source": [
    "gmm128= gmm128(mfcc_train)"
   ]
  },
  {
   "cell_type": "code",
   "execution_count": 21,
   "id": "70009491",
   "metadata": {
    "scrolled": true
   },
   "outputs": [],
   "source": [
    "gmm256= gmm256(mfcc_train)"
   ]
  },
  {
   "cell_type": "code",
   "execution_count": 22,
   "id": "94184125",
   "metadata": {},
   "outputs": [],
   "source": [
    "gmm512= gmm512(mfcc_train)"
   ]
  },
  {
   "cell_type": "code",
   "execution_count": 23,
   "id": "f57bccc3",
   "metadata": {},
   "outputs": [],
   "source": [
    "gmm1024= gmm1024(mfcc_train)"
   ]
  },
  {
   "cell_type": "markdown",
   "id": "daeee76f",
   "metadata": {},
   "source": [
    "# Evaluate the performance of each GMM model on the test set using the score_samples() function that returns an array containing the log-likelihood of each frame of the mfcc features"
   ]
  },
  {
   "cell_type": "code",
   "execution_count": 33,
   "id": "20be0c83",
   "metadata": {
    "scrolled": true
   },
   "outputs": [
    {
     "name": "stdout",
     "output_type": "stream",
     "text": [
      "GMM16 score: [ 74.38788144  74.38788144  74.38788144 ... -53.0198821  -52.35035207\n",
      " -53.71331347]\n",
      "GMM32 score: [ 74.38788144  74.38788144  74.38788144 ... -51.54623094 -50.37937909\n",
      " -49.50712375]\n",
      "GMM64 score: [ 74.38788144  74.38788144  74.38788144 ... -50.44499313 -49.61367804\n",
      " -48.61092702]\n",
      "GMM128 score: [ 74.38788144  74.38788144  74.38788144 ... -50.8258868  -49.52303145\n",
      " -49.38540205]\n",
      "GMM256 score: [ 74.38788144  74.38788144  74.38788144 ... -50.51583039 -50.00529989\n",
      " -51.511581  ]\n",
      "GMM512 score: [ 74.38788144  74.38788144  74.38788144 ... -47.39984341 -46.38587491\n",
      " -51.8235976 ]\n",
      "GMM1024 score: [ 74.38788144  74.38788144  74.38788144 ... -45.89844145 -44.95651933\n",
      " -49.60262791]\n"
     ]
    }
   ],
   "source": [
    "scores = []\n",
    "for model in [gmm16, gmm32, gmm64, gmm128, gmm256, gmm512, gmm1024]:\n",
    "    score = model.score_samples(mfcc_test)\n",
    "    scores.append(score)\n",
    "\n",
    "# Print the scores\n",
    "print('GMM16 score:', scores[0])\n",
    "print('GMM32 score:', scores[1])\n",
    "print('GMM64 score:', scores[2])\n",
    "print('GMM128 score:', scores[3])\n",
    "print('GMM256 score:', scores[4])\n",
    "print('GMM512 score:', scores[5])\n",
    "print('GMM1024 score:', scores[6])\n",
    "\n"
   ]
  },
  {
   "cell_type": "markdown",
   "id": "a09676ec",
   "metadata": {},
   "source": [
    "# As we can see in the following lines our mfcc_test set contains 121202 frames so we expect the same size of the scores array "
   ]
  },
  {
   "cell_type": "code",
   "execution_count": 25,
   "id": "b025b0c7",
   "metadata": {},
   "outputs": [
    {
     "data": {
      "text/plain": [
       "(121202, 13)"
      ]
     },
     "execution_count": 25,
     "metadata": {},
     "output_type": "execute_result"
    }
   ],
   "source": [
    "mfcc_test.shape"
   ]
  },
  {
   "cell_type": "markdown",
   "id": "51d092f6",
   "metadata": {},
   "source": [
    "# Indeed the size of the scores array is the same "
   ]
  },
  {
   "cell_type": "code",
   "execution_count": 26,
   "id": "811ecc16",
   "metadata": {},
   "outputs": [
    {
     "data": {
      "text/plain": [
       "(121202,)"
      ]
     },
     "execution_count": 26,
     "metadata": {},
     "output_type": "execute_result"
    }
   ],
   "source": [
    " scores[0].shape"
   ]
  },
  {
   "cell_type": "markdown",
   "id": "85f1168d",
   "metadata": {},
   "source": [
    "# In order to compare between the different GMM Models we need to calculate the score for the hole test set and we can do that by calculating the mean of the individual scores"
   ]
  },
  {
   "cell_type": "code",
   "execution_count": 34,
   "id": "e268debc",
   "metadata": {},
   "outputs": [
    {
     "name": "stdout",
     "output_type": "stream",
     "text": [
      "GMM16 score: -49.0838183651333\n",
      "GMM32 score: -48.79275546945979\n",
      "GMM64 score: -48.6336561571651\n",
      "GMM128 score: -48.43012194174043\n",
      "GMM256 score: -48.38550958441413\n",
      "GMM512 score: -48.39897400435833\n",
      "GMM1024 score: -48.503701691179806\n"
     ]
    }
   ],
   "source": [
    "#calculationg the score of the hole test set\n",
    "print('GMM16 score:', scores[0].mean())\n",
    "print('GMM32 score:', scores[1].mean())\n",
    "print('GMM64 score:', scores[2].mean())\n",
    "print('GMM128 score:', scores[3].mean())\n",
    "print('GMM256 score:', scores[4].mean())\n",
    "print('GMM512 score:', scores[5].mean())\n",
    "print('GMM1024 score:', scores[6].mean())"
   ]
  },
  {
   "cell_type": "markdown",
   "id": "81475f1a",
   "metadata": {},
   "source": [
    "### From the results above we can see that the best score (the closest one to 0) is given by the model using 256 gaussians "
   ]
  }
 ],
 "metadata": {
  "kernelspec": {
   "display_name": "Python 3 (ipykernel)",
   "language": "python",
   "name": "python3"
  },
  "language_info": {
   "codemirror_mode": {
    "name": "ipython",
    "version": 3
   },
   "file_extension": ".py",
   "mimetype": "text/x-python",
   "name": "python",
   "nbconvert_exporter": "python",
   "pygments_lexer": "ipython3",
   "version": "3.10.9"
  }
 },
 "nbformat": 4,
 "nbformat_minor": 5
}
