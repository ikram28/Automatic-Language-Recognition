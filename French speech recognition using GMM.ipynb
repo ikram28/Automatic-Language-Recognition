{
 "cells": [
  {
   "cell_type": "markdown",
   "id": "33b441db",
   "metadata": {},
   "source": [
    "# Importing necassary libraries"
   ]
  },
  {
   "cell_type": "code",
   "execution_count": 1,
   "id": "0967e058",
   "metadata": {},
   "outputs": [],
   "source": [
    "import numpy as np\n",
    "import scipy.io\n",
    "from python_speech_features import mfcc\n",
    "import matplotlib.pyplot as plt\n",
    "import IPython.display as ipd\n",
    "import os\n",
    "from sklearn.model_selection import train_test_split\n",
    "from sklearn.utils import shuffle\n",
    "import soundfile as sf\n",
    "import random\n",
    "from sklearn.mixture import GaussianMixture\n",
    "from sklearn.preprocessing import StandardScaler\n",
    "import joblib\n",
    "import math\n",
    "import statistics\n",
    "\n"
   ]
  },
  {
   "cell_type": "markdown",
   "id": "9f70050f",
   "metadata": {},
   "source": [
    "# Defining the function that reads the audios from a given path using scipy and returns 3 lists : audios, freqs, filepaths"
   ]
  },
  {
   "cell_type": "code",
   "execution_count": 2,
   "id": "3b439b37",
   "metadata": {},
   "outputs": [],
   "source": [
    "def read_audios(path):\n",
    "    audios = []\n",
    "    freqs = []\n",
    "    filepaths = []\n",
    "    #walking through the directory that contains the dataset and reading each file that has the .wav extension\n",
    "    for dp, dn, filenames in os.walk(path):\n",
    "        for filename in filenames:\n",
    "            if filename.endswith('.wav'):\n",
    "                filepath = os.path.join(dp, filename)\n",
    "                filepaths.append(filepath)\n",
    "                with open(filepath, \"rb\") as f:\n",
    "                    # load the audio using scipy\n",
    "                    freq, data = scipy.io.wavfile.read(f, mmap=False)\n",
    "                    # append the data and frequency to the respective lists\n",
    "                    audios.append(data)\n",
    "                    freqs.append(freq)\n",
    "    return audios, freqs, filepaths\n",
    "    "
   ]
  },
  {
   "cell_type": "markdown",
   "id": "49ac9df8",
   "metadata": {},
   "source": [
    "# Defining the funcyion that extracts the mfcc features then removes the frames of silence finally it saves the mffc features into a .txt file according to gender "
   ]
  },
  {
   "cell_type": "code",
   "execution_count": 3,
   "id": "bb308ced",
   "metadata": {},
   "outputs": [],
   "source": [
    "def extractMfccs_RemoveSilence_saveMfccs(audios,freqs,filepaths, directory):\n",
    "    mfccs = []\n",
    " \n",
    "    for audio, freq, filepath in zip(audios, freqs,filepaths):\n",
    "        # extract the MFCC features\n",
    "        mfcc_features = mfcc(audio, freq, winlen=0.025, winstep=0.01, numcep=13, nfilt=26, nfft= 2048, lowfreq=0,\n",
    "                         highfreq=None, preemph=0.97, ceplifter=22, appendEnergy=False)\n",
    "        \n",
    "        # calculate the energy\n",
    "        energy = np.sum(mfcc_features**2, axis=1)\n",
    "        # calculate the threshold for silence\n",
    "        threshold = np.mean(energy) * 0.4\n",
    "        #removing silence frames from mfccs\n",
    "        voiced_indices = np.where(energy > threshold)[0]\n",
    "        mfccs_voiced = mfcc_features[voiced_indices,:]\n",
    "        mfccs.append(mfccs_voiced)\n",
    "        \n",
    "        # print the shape of the MFCCs before and after removing silence\n",
    "        print(f\"MFCCs before removing silence: {mfcc_features.shape}\")\n",
    "        print(f\"MFCCs after removing silence: {mfccs_voiced.shape}\")\n",
    "        \n",
    "       #saving mffcs \n",
    "       # extract the gender information from the file name\n",
    "        gender = None\n",
    "        if 'hommes' in filepath:\n",
    "            gender = 'Hommes'\n",
    "        elif 'femmes' in filepath:\n",
    "            gender = 'Femmes'\n",
    "\n",
    "        # save the MFCCs to the appropriate directory based on gender\n",
    "        if gender is not None:\n",
    "            gender_dir = os.path.join(directory, gender)\n",
    "            if not os.path.exists(gender_dir):\n",
    "                os.makedirs(gender_dir)\n",
    "            mfcc_file = os.path.join(gender_dir,  os.path.splitext(os.path.basename(filepath))[0] + \".mfcc\")\n",
    "            np.savetxt(mfcc_file, mfccs_voiced, delimiter=',')\n",
    "            \n",
    "      \n",
    "    \n",
    "    return  mfccs"
   ]
  },
  {
   "cell_type": "markdown",
   "id": "8c3a1b86",
   "metadata": {},
   "source": [
    "# Defining the function that splits the extraced mfccs into training and testing sets : 2/3 from male directory for training and 2/3 from female "
   ]
  },
  {
   "cell_type": "code",
   "execution_count": 4,
   "id": "bf8259ff",
   "metadata": {},
   "outputs": [],
   "source": [
    "def train_test_split(mfcc_dir):\n",
    "    # create separate lists for male and female file paths\n",
    "    male_files = []\n",
    "    female_files = []\n",
    "    for root, dirs, files in os.walk(mfcc_dir):\n",
    "        for file in files:\n",
    "            if file.endswith('.mfcc'):\n",
    "                if 'Hommes' in root:\n",
    "                    male_files.append(os.path.join(root, file))\n",
    "                elif 'Femmes' in root:\n",
    "                    female_files.append(os.path.join(root, file))\n",
    "\n",
    "    # shuffle the male and female lists independently\n",
    "    random.shuffle(male_files)\n",
    "    random.shuffle(female_files)\n",
    "\n",
    "    # split the male and female lists into train and test based on the desired ratio\n",
    "    male_train = male_files[:int(2/3*len(male_files))]\n",
    "    male_test = male_files[int(2/3*len(male_files)):]\n",
    "\n",
    "    female_train = female_files[:int(2/3*len(female_files))]\n",
    "    female_test = female_files[int(2/3*len(female_files)):]\n",
    "\n",
    "    \n",
    "    \n",
    "    # merge the train and test lists for both male and female\n",
    "    train_files = male_train + female_train\n",
    "    test_files = male_test + female_test\n",
    "\n",
    "    # load the MFCC features from the saved files for the train and test sets\n",
    "    train_mfccs = []\n",
    "    test_mfccs = []\n",
    "\n",
    "    for file in train_files:\n",
    "        train_mfccs.append(np.loadtxt(file, delimiter=','))\n",
    "\n",
    "    for file in test_files:\n",
    "        test_mfccs.append(np.loadtxt(file, delimiter=','))\n",
    "\n",
    "    # print the shapes of the train and test MFCC feature arrays\n",
    "    print(f\"Train male MFCCs shape: {np.array(male_train).shape}\")\n",
    "    print(f\"Test male MFCCs shape: {np.array( male_test).shape}\")\n",
    "    print(f\"Train female MFCCs shape: {np.array(female_train).shape}\")\n",
    "    print(f\"Test female MFCCs shape: {np.array( female_test).shape}\")\n",
    "    print(f\"Train MFCCs shape: {np.array(train_mfccs).shape}\")\n",
    "    print(f\"Test MFCCs shape: {np.array(test_mfccs).shape}\")\n",
    "    \n",
    "    return train_mfccs, test_mfccs\n"
   ]
  },
  {
   "cell_type": "markdown",
   "id": "0ad0d967",
   "metadata": {},
   "source": [
    "# Defining the functions that train the different GMM models and than save them as a pkl file"
   ]
  },
  {
   "cell_type": "code",
   "execution_count": 5,
   "id": "b8bd0e12",
   "metadata": {},
   "outputs": [],
   "source": [
    "def gmm16(train_mfccs):\n",
    "    # Initialize the GMM model with 16 classes\n",
    "    gmm = GaussianMixture(n_components=16, covariance_type='diag', random_state=0)\n",
    "\n",
    "    # Fit the GMM model to the training data\n",
    "    gmm.fit(train_mfccs)\n",
    "    \n",
    "    # Save the trained GMM model to a file\n",
    "    joblib.dump(gmm, r'C:\\Users\\ASUS ROG STRIX\\Desktop\\Projet\\Langues\\gmm\\french\\gmm_model16_french.pkl')\n",
    "\n",
    "    return gmm\n"
   ]
  },
  {
   "cell_type": "code",
   "execution_count": 6,
   "id": "dacbf32b",
   "metadata": {},
   "outputs": [],
   "source": [
    "def gmm32(train_mfccs):\n",
    "    # Initialize the GMM model with 32 classes\n",
    "    gmm = GaussianMixture(n_components=32, covariance_type='diag', random_state=0)\n",
    "\n",
    "    # Fit the GMM model to the training data\n",
    "    gmm.fit(train_mfccs)\n",
    "    \n",
    "    # Save the trained GMM model to a file\n",
    "    joblib.dump(gmm, r'C:\\Users\\ASUS ROG STRIX\\Desktop\\Projet\\Langues\\gmm\\french\\gmm_model32_french.pkl')\n",
    "\n",
    "    return gmm"
   ]
  },
  {
   "cell_type": "code",
   "execution_count": 7,
   "id": "28b6eb22",
   "metadata": {},
   "outputs": [],
   "source": [
    "def gmm64(train_mfccs):\n",
    "    # Initialize the GMM model with 64 classes\n",
    "    gmm = GaussianMixture(n_components=64, covariance_type='diag', random_state=0)\n",
    "\n",
    "    # Fit the GMM model to the training data\n",
    "    gmm.fit(train_mfccs)\n",
    "    \n",
    "    # Save the trained GMM model to a file\n",
    "    joblib.dump(gmm, r'C:\\Users\\ASUS ROG STRIX\\Desktop\\Projet\\Langues\\gmm\\french\\gmm_model64_french.pkl')\n",
    "\n",
    "    return gmm"
   ]
  },
  {
   "cell_type": "code",
   "execution_count": 8,
   "id": "a0bc521f",
   "metadata": {},
   "outputs": [],
   "source": [
    "def gmm128(train_mfccs):\n",
    "    # Initialize the GMM model with 128 classes\n",
    "    gmm = GaussianMixture(n_components=128, covariance_type='diag', random_state=0)\n",
    "\n",
    "    # Fit the GMM model to the training data\n",
    "    gmm.fit(train_mfccs)\n",
    "    \n",
    "    # Save the trained GMM model to a file\n",
    "    joblib.dump(gmm, r'C:\\Users\\ASUS ROG STRIX\\Desktop\\Projet\\Langues\\gmm\\french\\gmm_model128_french.pkl')\n",
    "\n",
    "    return gmm"
   ]
  },
  {
   "cell_type": "code",
   "execution_count": 9,
   "id": "612098fc",
   "metadata": {},
   "outputs": [],
   "source": [
    "def gmm256(train_mfccs):\n",
    "    # Initialize the GMM model with 254 classes\n",
    "    gmm = GaussianMixture(n_components=256, covariance_type='diag', random_state=0)\n",
    "\n",
    "    # Fit the GMM model to the training data\n",
    "    gmm.fit(train_mfccs)\n",
    "    \n",
    "    # Save the trained GMM model to a file\n",
    "    joblib.dump(gmm, r'C:\\Users\\ASUS ROG STRIX\\Desktop\\Projet\\Langues\\gmm\\french\\gmm_model256_french.pkl')\n",
    "\n",
    "    return gmm"
   ]
  },
  {
   "cell_type": "code",
   "execution_count": 10,
   "id": "dfb45460",
   "metadata": {},
   "outputs": [],
   "source": [
    "\n",
    "def gmm512(train_mfccs):\n",
    "    # Initialize the GMM model with 254 classes\n",
    "    gmm = GaussianMixture(n_components=512, covariance_type='diag', random_state=0)\n",
    "\n",
    "    # Fit the GMM model to the training data\n",
    "    gmm.fit(train_mfccs)\n",
    "    \n",
    "    # Save the trained GMM model to a file\n",
    "    joblib.dump(gmm, r'C:\\Users\\ASUS ROG STRIX\\Desktop\\Projet\\Langues\\gmm\\french\\gmm_model512_french.pkl')\n",
    "\n",
    "    return gmm"
   ]
  },
  {
   "cell_type": "markdown",
   "id": "47df1901",
   "metadata": {},
   "source": [
    "# Getting the audios frequencies and filepaths from the russe directory using the function defined above"
   ]
  },
  {
   "cell_type": "code",
   "execution_count": 11,
   "id": "691321ce",
   "metadata": {},
   "outputs": [
    {
     "name": "stderr",
     "output_type": "stream",
     "text": [
      "C:\\Temp\\ipykernel_17932\\2069710646.py:13: WavFileWarning: Chunk (non-data) not understood, skipping it.\n",
      "  freq, data = scipy.io.wavfile.read(f, mmap=False)\n"
     ]
    }
   ],
   "source": [
    "audios, freqs, filepaths= read_audios(r'C:\\Users\\ASUS ROG STRIX\\Desktop\\Projet\\Langues\\dataset\\french')"
   ]
  },
  {
   "cell_type": "markdown",
   "id": "c6a44575",
   "metadata": {},
   "source": [
    "# Extracting the mfcc features - Removing silence and saving the mfccs"
   ]
  },
  {
   "cell_type": "code",
   "execution_count": 12,
   "id": "1cb16fef",
   "metadata": {
    "scrolled": true
   },
   "outputs": [
    {
     "name": "stdout",
     "output_type": "stream",
     "text": [
      "MFCCs before removing silence: (6000, 13)\n",
      "MFCCs after removing silence: (5983, 13)\n",
      "MFCCs before removing silence: (12300, 13)\n",
      "MFCCs after removing silence: (12300, 13)\n",
      "MFCCs before removing silence: (11421, 13)\n",
      "MFCCs after removing silence: (10980, 13)\n",
      "MFCCs before removing silence: (6373, 13)\n",
      "MFCCs after removing silence: (6300, 13)\n",
      "MFCCs before removing silence: (13434, 13)\n",
      "MFCCs after removing silence: (10726, 13)\n",
      "MFCCs before removing silence: (6000, 13)\n",
      "MFCCs after removing silence: (5546, 13)\n",
      "MFCCs before removing silence: (11997, 13)\n",
      "MFCCs after removing silence: (11995, 13)\n",
      "MFCCs before removing silence: (11999, 13)\n",
      "MFCCs after removing silence: (10570, 13)\n",
      "MFCCs before removing silence: (11999, 13)\n",
      "MFCCs after removing silence: (11053, 13)\n",
      "MFCCs before removing silence: (11999, 13)\n",
      "MFCCs after removing silence: (10601, 13)\n",
      "MFCCs before removing silence: (11999, 13)\n",
      "MFCCs after removing silence: (10570, 13)\n",
      "MFCCs before removing silence: (11999, 13)\n",
      "MFCCs after removing silence: (10400, 13)\n",
      "MFCCs before removing silence: (11999, 13)\n",
      "MFCCs after removing silence: (10907, 13)\n",
      "MFCCs before removing silence: (11999, 13)\n",
      "MFCCs after removing silence: (11017, 13)\n",
      "MFCCs before removing silence: (11999, 13)\n",
      "MFCCs after removing silence: (10680, 13)\n",
      "MFCCs before removing silence: (11999, 13)\n",
      "MFCCs after removing silence: (10952, 13)\n",
      "MFCCs before removing silence: (11999, 13)\n",
      "MFCCs after removing silence: (10752, 13)\n",
      "MFCCs before removing silence: (11999, 13)\n",
      "MFCCs after removing silence: (10600, 13)\n",
      "MFCCs before removing silence: (11999, 13)\n",
      "MFCCs after removing silence: (10604, 13)\n",
      "MFCCs before removing silence: (11999, 13)\n",
      "MFCCs after removing silence: (10466, 13)\n",
      "MFCCs before removing silence: (8517, 13)\n",
      "MFCCs after removing silence: (7365, 13)\n",
      "MFCCs before removing silence: (11999, 13)\n",
      "MFCCs after removing silence: (11703, 13)\n",
      "MFCCs before removing silence: (11999, 13)\n",
      "MFCCs after removing silence: (11798, 13)\n",
      "MFCCs before removing silence: (11999, 13)\n",
      "MFCCs after removing silence: (11622, 13)\n",
      "MFCCs before removing silence: (11999, 13)\n",
      "MFCCs after removing silence: (11577, 13)\n",
      "MFCCs before removing silence: (11999, 13)\n",
      "MFCCs after removing silence: (11644, 13)\n",
      "MFCCs before removing silence: (11999, 13)\n",
      "MFCCs after removing silence: (11876, 13)\n",
      "MFCCs before removing silence: (11999, 13)\n",
      "MFCCs after removing silence: (11957, 13)\n",
      "MFCCs before removing silence: (11999, 13)\n",
      "MFCCs after removing silence: (11993, 13)\n",
      "MFCCs before removing silence: (11999, 13)\n",
      "MFCCs after removing silence: (11986, 13)\n",
      "MFCCs before removing silence: (11999, 13)\n",
      "MFCCs after removing silence: (11976, 13)\n",
      "MFCCs before removing silence: (11999, 13)\n",
      "MFCCs after removing silence: (11975, 13)\n",
      "MFCCs before removing silence: (11999, 13)\n",
      "MFCCs after removing silence: (11990, 13)\n",
      "MFCCs before removing silence: (11999, 13)\n",
      "MFCCs after removing silence: (11957, 13)\n",
      "MFCCs before removing silence: (11999, 13)\n",
      "MFCCs after removing silence: (11963, 13)\n",
      "MFCCs before removing silence: (1967, 13)\n",
      "MFCCs after removing silence: (1959, 13)\n",
      "MFCCs before removing silence: (11999, 13)\n",
      "MFCCs after removing silence: (9745, 13)\n",
      "MFCCs before removing silence: (11999, 13)\n",
      "MFCCs after removing silence: (9905, 13)\n",
      "MFCCs before removing silence: (11999, 13)\n",
      "MFCCs after removing silence: (10031, 13)\n",
      "MFCCs before removing silence: (11999, 13)\n",
      "MFCCs after removing silence: (9546, 13)\n",
      "MFCCs before removing silence: (11999, 13)\n",
      "MFCCs after removing silence: (9739, 13)\n",
      "MFCCs before removing silence: (11999, 13)\n",
      "MFCCs after removing silence: (9412, 13)\n",
      "MFCCs before removing silence: (11999, 13)\n",
      "MFCCs after removing silence: (9365, 13)\n",
      "MFCCs before removing silence: (11999, 13)\n",
      "MFCCs after removing silence: (9169, 13)\n",
      "MFCCs before removing silence: (11999, 13)\n",
      "MFCCs after removing silence: (8782, 13)\n",
      "MFCCs before removing silence: (11999, 13)\n",
      "MFCCs after removing silence: (9410, 13)\n",
      "MFCCs before removing silence: (11999, 13)\n",
      "MFCCs after removing silence: (9246, 13)\n",
      "MFCCs before removing silence: (11999, 13)\n",
      "MFCCs after removing silence: (9730, 13)\n",
      "MFCCs before removing silence: (11999, 13)\n",
      "MFCCs after removing silence: (9368, 13)\n",
      "MFCCs before removing silence: (11999, 13)\n",
      "MFCCs after removing silence: (8870, 13)\n",
      "MFCCs before removing silence: (7667, 13)\n",
      "MFCCs after removing silence: (5465, 13)\n",
      "MFCCs before removing silence: (5999, 13)\n",
      "MFCCs after removing silence: (5652, 13)\n",
      "MFCCs before removing silence: (5999, 13)\n",
      "MFCCs after removing silence: (5543, 13)\n",
      "MFCCs before removing silence: (5999, 13)\n",
      "MFCCs after removing silence: (5486, 13)\n",
      "MFCCs before removing silence: (5999, 13)\n",
      "MFCCs after removing silence: (5411, 13)\n",
      "MFCCs before removing silence: (5999, 13)\n",
      "MFCCs after removing silence: (4931, 13)\n",
      "MFCCs before removing silence: (5999, 13)\n",
      "MFCCs after removing silence: (5279, 13)\n",
      "MFCCs before removing silence: (5045, 13)\n",
      "MFCCs after removing silence: (4316, 13)\n",
      "MFCCs before removing silence: (499, 13)\n",
      "MFCCs after removing silence: (454, 13)\n",
      "MFCCs before removing silence: (499, 13)\n",
      "MFCCs after removing silence: (493, 13)\n",
      "MFCCs before removing silence: (499, 13)\n",
      "MFCCs after removing silence: (448, 13)\n",
      "MFCCs before removing silence: (499, 13)\n",
      "MFCCs after removing silence: (412, 13)\n",
      "MFCCs before removing silence: (499, 13)\n",
      "MFCCs after removing silence: (470, 13)\n",
      "MFCCs before removing silence: (499, 13)\n",
      "MFCCs after removing silence: (485, 13)\n",
      "MFCCs before removing silence: (499, 13)\n",
      "MFCCs after removing silence: (454, 13)\n",
      "MFCCs before removing silence: (499, 13)\n",
      "MFCCs after removing silence: (494, 13)\n",
      "MFCCs before removing silence: (499, 13)\n",
      "MFCCs after removing silence: (451, 13)\n",
      "MFCCs before removing silence: (499, 13)\n",
      "MFCCs after removing silence: (493, 13)\n",
      "MFCCs before removing silence: (499, 13)\n",
      "MFCCs after removing silence: (494, 13)\n",
      "MFCCs before removing silence: (499, 13)\n",
      "MFCCs after removing silence: (433, 13)\n",
      "MFCCs before removing silence: (499, 13)\n",
      "MFCCs after removing silence: (472, 13)\n",
      "MFCCs before removing silence: (499, 13)\n",
      "MFCCs after removing silence: (482, 13)\n",
      "MFCCs before removing silence: (499, 13)\n",
      "MFCCs after removing silence: (491, 13)\n",
      "MFCCs before removing silence: (499, 13)\n",
      "MFCCs after removing silence: (494, 13)\n",
      "MFCCs before removing silence: (499, 13)\n",
      "MFCCs after removing silence: (487, 13)\n",
      "MFCCs before removing silence: (499, 13)\n",
      "MFCCs after removing silence: (489, 13)\n",
      "MFCCs before removing silence: (499, 13)\n",
      "MFCCs after removing silence: (489, 13)\n",
      "MFCCs before removing silence: (499, 13)\n",
      "MFCCs after removing silence: (487, 13)\n",
      "MFCCs before removing silence: (499, 13)\n",
      "MFCCs after removing silence: (487, 13)\n",
      "MFCCs before removing silence: (499, 13)\n",
      "MFCCs after removing silence: (494, 13)\n",
      "MFCCs before removing silence: (499, 13)\n",
      "MFCCs after removing silence: (433, 13)\n",
      "MFCCs before removing silence: (499, 13)\n",
      "MFCCs after removing silence: (412, 13)\n",
      "MFCCs before removing silence: (499, 13)\n",
      "MFCCs after removing silence: (494, 13)\n",
      "MFCCs before removing silence: (499, 13)\n",
      "MFCCs after removing silence: (489, 13)\n",
      "MFCCs before removing silence: (499, 13)\n",
      "MFCCs after removing silence: (364, 13)\n",
      "MFCCs before removing silence: (499, 13)\n",
      "MFCCs after removing silence: (455, 13)\n",
      "MFCCs before removing silence: (499, 13)\n",
      "MFCCs after removing silence: (473, 13)\n",
      "MFCCs before removing silence: (499, 13)\n",
      "MFCCs after removing silence: (496, 13)\n",
      "MFCCs before removing silence: (499, 13)\n",
      "MFCCs after removing silence: (419, 13)\n",
      "MFCCs before removing silence: (499, 13)\n",
      "MFCCs after removing silence: (495, 13)\n",
      "MFCCs before removing silence: (499, 13)\n",
      "MFCCs after removing silence: (477, 13)\n",
      "MFCCs before removing silence: (499, 13)\n",
      "MFCCs after removing silence: (490, 13)\n",
      "MFCCs before removing silence: (499, 13)\n",
      "MFCCs after removing silence: (496, 13)\n",
      "MFCCs before removing silence: (499, 13)\n",
      "MFCCs after removing silence: (493, 13)\n",
      "MFCCs before removing silence: (499, 13)\n",
      "MFCCs after removing silence: (495, 13)\n",
      "MFCCs before removing silence: (499, 13)\n",
      "MFCCs after removing silence: (459, 13)\n",
      "MFCCs before removing silence: (499, 13)\n",
      "MFCCs after removing silence: (499, 13)\n",
      "MFCCs before removing silence: (499, 13)\n",
      "MFCCs after removing silence: (466, 13)\n",
      "MFCCs before removing silence: (499, 13)\n",
      "MFCCs after removing silence: (497, 13)\n",
      "MFCCs before removing silence: (499, 13)\n",
      "MFCCs after removing silence: (454, 13)\n",
      "MFCCs before removing silence: (499, 13)\n",
      "MFCCs after removing silence: (494, 13)\n"
     ]
    },
    {
     "name": "stdout",
     "output_type": "stream",
     "text": [
      "MFCCs before removing silence: (499, 13)\n",
      "MFCCs after removing silence: (437, 13)\n",
      "MFCCs before removing silence: (499, 13)\n",
      "MFCCs after removing silence: (470, 13)\n",
      "MFCCs before removing silence: (499, 13)\n",
      "MFCCs after removing silence: (472, 13)\n",
      "MFCCs before removing silence: (499, 13)\n",
      "MFCCs after removing silence: (487, 13)\n",
      "MFCCs before removing silence: (499, 13)\n",
      "MFCCs after removing silence: (411, 13)\n",
      "MFCCs before removing silence: (499, 13)\n",
      "MFCCs after removing silence: (476, 13)\n",
      "MFCCs before removing silence: (499, 13)\n",
      "MFCCs after removing silence: (499, 13)\n",
      "MFCCs before removing silence: (499, 13)\n",
      "MFCCs after removing silence: (448, 13)\n",
      "MFCCs before removing silence: (499, 13)\n",
      "MFCCs after removing silence: (495, 13)\n",
      "MFCCs before removing silence: (499, 13)\n",
      "MFCCs after removing silence: (456, 13)\n",
      "MFCCs before removing silence: (499, 13)\n",
      "MFCCs after removing silence: (499, 13)\n",
      "MFCCs before removing silence: (499, 13)\n",
      "MFCCs after removing silence: (487, 13)\n",
      "MFCCs before removing silence: (499, 13)\n",
      "MFCCs after removing silence: (461, 13)\n",
      "MFCCs before removing silence: (499, 13)\n",
      "MFCCs after removing silence: (436, 13)\n",
      "MFCCs before removing silence: (499, 13)\n",
      "MFCCs after removing silence: (411, 13)\n",
      "MFCCs before removing silence: (499, 13)\n",
      "MFCCs after removing silence: (436, 13)\n",
      "MFCCs before removing silence: (499, 13)\n",
      "MFCCs after removing silence: (411, 13)\n",
      "MFCCs before removing silence: (499, 13)\n",
      "MFCCs after removing silence: (444, 13)\n",
      "MFCCs before removing silence: (499, 13)\n",
      "MFCCs after removing silence: (497, 13)\n",
      "MFCCs before removing silence: (499, 13)\n",
      "MFCCs after removing silence: (499, 13)\n",
      "MFCCs before removing silence: (499, 13)\n",
      "MFCCs after removing silence: (415, 13)\n",
      "MFCCs before removing silence: (499, 13)\n",
      "MFCCs after removing silence: (495, 13)\n",
      "MFCCs before removing silence: (499, 13)\n",
      "MFCCs after removing silence: (401, 13)\n",
      "MFCCs before removing silence: (499, 13)\n",
      "MFCCs after removing silence: (445, 13)\n",
      "MFCCs before removing silence: (499, 13)\n",
      "MFCCs after removing silence: (432, 13)\n",
      "MFCCs before removing silence: (499, 13)\n",
      "MFCCs after removing silence: (487, 13)\n",
      "MFCCs before removing silence: (499, 13)\n",
      "MFCCs after removing silence: (490, 13)\n",
      "MFCCs before removing silence: (499, 13)\n",
      "MFCCs after removing silence: (472, 13)\n",
      "MFCCs before removing silence: (499, 13)\n",
      "MFCCs after removing silence: (495, 13)\n",
      "MFCCs before removing silence: (499, 13)\n",
      "MFCCs after removing silence: (452, 13)\n",
      "MFCCs before removing silence: (499, 13)\n",
      "MFCCs after removing silence: (416, 13)\n",
      "MFCCs before removing silence: (499, 13)\n",
      "MFCCs after removing silence: (437, 13)\n",
      "MFCCs before removing silence: (499, 13)\n",
      "MFCCs after removing silence: (416, 13)\n",
      "MFCCs before removing silence: (499, 13)\n",
      "MFCCs after removing silence: (451, 13)\n",
      "MFCCs before removing silence: (499, 13)\n",
      "MFCCs after removing silence: (484, 13)\n",
      "MFCCs before removing silence: (499, 13)\n",
      "MFCCs after removing silence: (491, 13)\n",
      "MFCCs before removing silence: (499, 13)\n",
      "MFCCs after removing silence: (499, 13)\n",
      "MFCCs before removing silence: (499, 13)\n",
      "MFCCs after removing silence: (313, 13)\n",
      "MFCCs before removing silence: (499, 13)\n",
      "MFCCs after removing silence: (498, 13)\n",
      "MFCCs before removing silence: (499, 13)\n",
      "MFCCs after removing silence: (499, 13)\n",
      "MFCCs before removing silence: (499, 13)\n",
      "MFCCs after removing silence: (499, 13)\n",
      "MFCCs before removing silence: (499, 13)\n",
      "MFCCs after removing silence: (499, 13)\n",
      "MFCCs before removing silence: (499, 13)\n",
      "MFCCs after removing silence: (471, 13)\n",
      "MFCCs before removing silence: (499, 13)\n",
      "MFCCs after removing silence: (499, 13)\n",
      "MFCCs before removing silence: (499, 13)\n",
      "MFCCs after removing silence: (492, 13)\n",
      "MFCCs before removing silence: (499, 13)\n",
      "MFCCs after removing silence: (477, 13)\n",
      "MFCCs before removing silence: (499, 13)\n",
      "MFCCs after removing silence: (498, 13)\n",
      "MFCCs before removing silence: (499, 13)\n",
      "MFCCs after removing silence: (499, 13)\n",
      "MFCCs before removing silence: (499, 13)\n",
      "MFCCs after removing silence: (494, 13)\n",
      "MFCCs before removing silence: (499, 13)\n",
      "MFCCs after removing silence: (475, 13)\n",
      "MFCCs before removing silence: (499, 13)\n",
      "MFCCs after removing silence: (499, 13)\n",
      "MFCCs before removing silence: (499, 13)\n",
      "MFCCs after removing silence: (498, 13)\n",
      "MFCCs before removing silence: (499, 13)\n",
      "MFCCs after removing silence: (490, 13)\n",
      "MFCCs before removing silence: (499, 13)\n",
      "MFCCs after removing silence: (495, 13)\n",
      "MFCCs before removing silence: (499, 13)\n",
      "MFCCs after removing silence: (499, 13)\n",
      "MFCCs before removing silence: (499, 13)\n",
      "MFCCs after removing silence: (499, 13)\n",
      "MFCCs before removing silence: (499, 13)\n",
      "MFCCs after removing silence: (499, 13)\n",
      "MFCCs before removing silence: (499, 13)\n",
      "MFCCs after removing silence: (498, 13)\n",
      "MFCCs before removing silence: (499, 13)\n",
      "MFCCs after removing silence: (492, 13)\n",
      "MFCCs before removing silence: (499, 13)\n",
      "MFCCs after removing silence: (359, 13)\n",
      "MFCCs before removing silence: (499, 13)\n",
      "MFCCs after removing silence: (483, 13)\n",
      "MFCCs before removing silence: (499, 13)\n",
      "MFCCs after removing silence: (448, 13)\n",
      "MFCCs before removing silence: (499, 13)\n",
      "MFCCs after removing silence: (494, 13)\n",
      "MFCCs before removing silence: (499, 13)\n",
      "MFCCs after removing silence: (462, 13)\n",
      "MFCCs before removing silence: (499, 13)\n",
      "MFCCs after removing silence: (450, 13)\n",
      "MFCCs before removing silence: (499, 13)\n",
      "MFCCs after removing silence: (442, 13)\n",
      "MFCCs before removing silence: (499, 13)\n",
      "MFCCs after removing silence: (489, 13)\n",
      "MFCCs before removing silence: (499, 13)\n",
      "MFCCs after removing silence: (454, 13)\n",
      "MFCCs before removing silence: (499, 13)\n",
      "MFCCs after removing silence: (454, 13)\n",
      "MFCCs before removing silence: (499, 13)\n",
      "MFCCs after removing silence: (450, 13)\n",
      "MFCCs before removing silence: (499, 13)\n",
      "MFCCs after removing silence: (490, 13)\n",
      "MFCCs before removing silence: (499, 13)\n",
      "MFCCs after removing silence: (457, 13)\n",
      "MFCCs before removing silence: (499, 13)\n",
      "MFCCs after removing silence: (476, 13)\n",
      "MFCCs before removing silence: (499, 13)\n",
      "MFCCs after removing silence: (435, 13)\n",
      "MFCCs before removing silence: (499, 13)\n",
      "MFCCs after removing silence: (491, 13)\n",
      "MFCCs before removing silence: (499, 13)\n",
      "MFCCs after removing silence: (417, 13)\n",
      "MFCCs before removing silence: (499, 13)\n",
      "MFCCs after removing silence: (482, 13)\n",
      "MFCCs before removing silence: (499, 13)\n",
      "MFCCs after removing silence: (454, 13)\n",
      "MFCCs before removing silence: (499, 13)\n",
      "MFCCs after removing silence: (450, 13)\n",
      "MFCCs before removing silence: (499, 13)\n",
      "MFCCs after removing silence: (400, 13)\n",
      "MFCCs before removing silence: (499, 13)\n",
      "MFCCs after removing silence: (453, 13)\n",
      "MFCCs before removing silence: (499, 13)\n",
      "MFCCs after removing silence: (471, 13)\n",
      "MFCCs before removing silence: (499, 13)\n",
      "MFCCs after removing silence: (483, 13)\n",
      "MFCCs before removing silence: (499, 13)\n",
      "MFCCs after removing silence: (482, 13)\n",
      "MFCCs before removing silence: (499, 13)\n",
      "MFCCs after removing silence: (342, 13)\n",
      "MFCCs before removing silence: (499, 13)\n",
      "MFCCs after removing silence: (467, 13)\n",
      "MFCCs before removing silence: (499, 13)\n",
      "MFCCs after removing silence: (425, 13)\n",
      "MFCCs before removing silence: (499, 13)\n",
      "MFCCs after removing silence: (496, 13)\n",
      "MFCCs before removing silence: (499, 13)\n",
      "MFCCs after removing silence: (463, 13)\n",
      "MFCCs before removing silence: (499, 13)\n",
      "MFCCs after removing silence: (443, 13)\n",
      "MFCCs before removing silence: (499, 13)\n",
      "MFCCs after removing silence: (441, 13)\n",
      "MFCCs before removing silence: (499, 13)\n",
      "MFCCs after removing silence: (499, 13)\n",
      "MFCCs before removing silence: (499, 13)\n",
      "MFCCs after removing silence: (385, 13)\n",
      "MFCCs before removing silence: (499, 13)\n",
      "MFCCs after removing silence: (349, 13)\n",
      "MFCCs before removing silence: (499, 13)\n",
      "MFCCs after removing silence: (362, 13)\n",
      "MFCCs before removing silence: (499, 13)\n",
      "MFCCs after removing silence: (411, 13)\n",
      "MFCCs before removing silence: (499, 13)\n",
      "MFCCs after removing silence: (412, 13)\n",
      "MFCCs before removing silence: (499, 13)\n",
      "MFCCs after removing silence: (395, 13)\n",
      "MFCCs before removing silence: (499, 13)\n",
      "MFCCs after removing silence: (414, 13)\n",
      "MFCCs before removing silence: (499, 13)\n",
      "MFCCs after removing silence: (435, 13)\n",
      "MFCCs before removing silence: (499, 13)\n",
      "MFCCs after removing silence: (413, 13)\n",
      "MFCCs before removing silence: (499, 13)\n",
      "MFCCs after removing silence: (405, 13)\n",
      "MFCCs before removing silence: (499, 13)\n",
      "MFCCs after removing silence: (444, 13)\n",
      "MFCCs before removing silence: (499, 13)\n",
      "MFCCs after removing silence: (446, 13)\n"
     ]
    },
    {
     "name": "stdout",
     "output_type": "stream",
     "text": [
      "MFCCs before removing silence: (499, 13)\n",
      "MFCCs after removing silence: (392, 13)\n",
      "MFCCs before removing silence: (499, 13)\n",
      "MFCCs after removing silence: (480, 13)\n",
      "MFCCs before removing silence: (499, 13)\n",
      "MFCCs after removing silence: (371, 13)\n",
      "MFCCs before removing silence: (499, 13)\n",
      "MFCCs after removing silence: (389, 13)\n",
      "MFCCs before removing silence: (499, 13)\n",
      "MFCCs after removing silence: (383, 13)\n",
      "MFCCs before removing silence: (10179, 13)\n",
      "MFCCs after removing silence: (9345, 13)\n",
      "MFCCs before removing silence: (7329, 13)\n",
      "MFCCs after removing silence: (6282, 13)\n",
      "MFCCs before removing silence: (11997, 13)\n",
      "MFCCs after removing silence: (11991, 13)\n",
      "MFCCs before removing silence: (12695, 13)\n",
      "MFCCs after removing silence: (12012, 13)\n",
      "MFCCs before removing silence: (5999, 13)\n",
      "MFCCs after removing silence: (5570, 13)\n",
      "MFCCs before removing silence: (3296, 13)\n",
      "MFCCs after removing silence: (3008, 13)\n",
      "MFCCs before removing silence: (4158, 13)\n",
      "MFCCs after removing silence: (4154, 13)\n",
      "MFCCs before removing silence: (3353, 13)\n",
      "MFCCs after removing silence: (3331, 13)\n"
     ]
    }
   ],
   "source": [
    "mfccs = extractMfccs_RemoveSilence_saveMfccs(audios, freqs, filepaths,r'C:\\Users\\ASUS ROG STRIX\\Desktop\\Projet\\Langues\\mfcc\\french')"
   ]
  },
  {
   "cell_type": "markdown",
   "id": "0c215355",
   "metadata": {},
   "source": [
    "## -----> We can see here that the size of the mfcc features has decreased after removing the frames ot silence"
   ]
  },
  {
   "cell_type": "markdown",
   "id": "d433fa3a",
   "metadata": {},
   "source": [
    "# Splitting into teest and train sets according to gender"
   ]
  },
  {
   "cell_type": "code",
   "execution_count": 13,
   "id": "88efb508",
   "metadata": {
    "scrolled": true
   },
   "outputs": [
    {
     "name": "stdout",
     "output_type": "stream",
     "text": [
      "Train male MFCCs shape: (106,)\n",
      "Test male MFCCs shape: (54,)\n",
      "Train female MFCCs shape: (38,)\n",
      "Test female MFCCs shape: (20,)\n",
      "Train MFCCs shape: (144,)\n",
      "Test MFCCs shape: (74,)\n"
     ]
    },
    {
     "name": "stderr",
     "output_type": "stream",
     "text": [
      "C:\\Temp\\ipykernel_17932\\3397580047.py:45: VisibleDeprecationWarning: Creating an ndarray from ragged nested sequences (which is a list-or-tuple of lists-or-tuples-or ndarrays with different lengths or shapes) is deprecated. If you meant to do this, you must specify 'dtype=object' when creating the ndarray.\n",
      "  print(f\"Train MFCCs shape: {np.array(train_mfccs).shape}\")\n",
      "C:\\Temp\\ipykernel_17932\\3397580047.py:46: VisibleDeprecationWarning: Creating an ndarray from ragged nested sequences (which is a list-or-tuple of lists-or-tuples-or ndarrays with different lengths or shapes) is deprecated. If you meant to do this, you must specify 'dtype=object' when creating the ndarray.\n",
      "  print(f\"Test MFCCs shape: {np.array(test_mfccs).shape}\")\n"
     ]
    }
   ],
   "source": [
    "train_mfccs, test_mfccs = train_test_split(r'C:\\Users\\ASUS ROG STRIX\\Desktop\\Projet\\Langues\\mfcc\\french')"
   ]
  },
  {
   "cell_type": "markdown",
   "id": "3dc25031",
   "metadata": {},
   "source": [
    "# Stacking vertically the train and test MFCC features so that we can fit the gmm models"
   ]
  },
  {
   "cell_type": "code",
   "execution_count": 14,
   "id": "c1453682",
   "metadata": {},
   "outputs": [],
   "source": [
    "#stack vertically the train MFCC features \n",
    "mfcc_train = []\n",
    "for train_mfcc in train_mfccs:\n",
    "    mfcc_train.append(train_mfcc)\n",
    "mfcc_train = np.concatenate(mfcc_train, axis=0)\n",
    "\n",
    "#stack vertically the test MFCC features \n",
    "mfcc_test = []\n",
    "for test_mfcc in test_mfccs:\n",
    "    mfcc_test.append(test_mfcc)\n",
    "mfcc_test = np.concatenate(mfcc_test, axis=0)\n"
   ]
  },
  {
   "cell_type": "markdown",
   "id": "6fb378a1",
   "metadata": {},
   "source": [
    "# Saving the test set into a txt file "
   ]
  },
  {
   "cell_type": "code",
   "execution_count": 15,
   "id": "c8254a5c",
   "metadata": {},
   "outputs": [],
   "source": [
    "\n",
    "#Save the test mfccs in a file\n",
    "test_mfccs = np.vstack(test_mfccs)\n",
    "test_mfccs = np.array(test_mfccs, dtype=float)\n",
    "np.savetxt(r'C:\\Users\\ASUS ROG STRIX\\Desktop\\Projet\\Langues\\gmm\\Test\\frenchTest', test_mfccs, delimiter=',')\n",
    "\n"
   ]
  },
  {
   "cell_type": "markdown",
   "id": "e4c7eab2",
   "metadata": {},
   "source": [
    "# Training the different Gmm Models "
   ]
  },
  {
   "cell_type": "code",
   "execution_count": 16,
   "id": "d7f1788a",
   "metadata": {},
   "outputs": [],
   "source": [
    "gmm16 = gmm16(mfcc_train)"
   ]
  },
  {
   "cell_type": "code",
   "execution_count": 17,
   "id": "caf46091",
   "metadata": {},
   "outputs": [],
   "source": [
    "gmm32 = gmm32(mfcc_train)"
   ]
  },
  {
   "cell_type": "code",
   "execution_count": 18,
   "id": "7f95e8c5",
   "metadata": {},
   "outputs": [],
   "source": [
    "gmm64 = gmm64(mfcc_train)"
   ]
  },
  {
   "cell_type": "code",
   "execution_count": 19,
   "id": "60fcf0ca",
   "metadata": {},
   "outputs": [],
   "source": [
    "gmm128= gmm128(mfcc_train)"
   ]
  },
  {
   "cell_type": "code",
   "execution_count": 20,
   "id": "70009491",
   "metadata": {
    "scrolled": true
   },
   "outputs": [],
   "source": [
    "gmm256= gmm256(mfcc_train)"
   ]
  },
  {
   "cell_type": "code",
   "execution_count": 21,
   "id": "c775f3c9",
   "metadata": {},
   "outputs": [],
   "source": [
    "gmm512= gmm512(mfcc_train)"
   ]
  },
  {
   "cell_type": "markdown",
   "id": "57307236",
   "metadata": {},
   "source": [
    "# Evaluate the performance of each GMM model on the test set using the score_samples() function that returns an array containing the log-likelihood of each frame of the mfcc features"
   ]
  },
  {
   "cell_type": "code",
   "execution_count": 22,
   "id": "864627f4",
   "metadata": {
    "scrolled": true
   },
   "outputs": [
    {
     "name": "stdout",
     "output_type": "stream",
     "text": [
      "GMM16 score: [-48.79173554 -49.6298529  -49.97769887 ... -47.7996261  -47.75827704\n",
      " -47.0054971 ]\n",
      "GMM32 score: [-48.9654612  -49.73968559 -50.3841993  ... -42.99603187 -42.75618718\n",
      " -43.03847411]\n",
      "GMM64 score: [-46.5913956  -49.03487781 -49.40734028 ... -43.00777049 -43.12412703\n",
      " -43.70401301]\n",
      "GMM128 score: [-44.86177575 -48.06634654 -47.37937962 ... -40.47976853 -40.18047603\n",
      " -40.83938564]\n",
      "GMM256 score: [-45.74711728 -47.58789266 -44.8974106  ... -39.83103975 -38.7817638\n",
      " -39.52062229]\n",
      "GMM512 score: [-45.52014514 -49.47335532 -47.55770274 ... -40.02035098 -39.1315596\n",
      " -39.41473852]\n"
     ]
    }
   ],
   "source": [
    "scores = []\n",
    "for model in [gmm16, gmm32, gmm64, gmm128, gmm256, gmm512]:\n",
    "    score = model.score_samples(mfcc_test)\n",
    "    scores.append(score)\n",
    "\n",
    "# Print the scores\n",
    "print('GMM16 score:', scores[0])\n",
    "print('GMM32 score:', scores[1])\n",
    "print('GMM64 score:', scores[2])\n",
    "print('GMM128 score:', scores[3])\n",
    "print('GMM256 score:', scores[4])\n",
    "print('GMM512 score:', scores[5])\n",
    "\n"
   ]
  },
  {
   "cell_type": "markdown",
   "id": "30f5b35d",
   "metadata": {},
   "source": [
    "# As we can see in the following lines our mfcc_test set contains 225542 frames so we expect the same size of the scores array "
   ]
  },
  {
   "cell_type": "code",
   "execution_count": 23,
   "id": "7a160dc9",
   "metadata": {},
   "outputs": [
    {
     "data": {
      "text/plain": [
       "(225542, 13)"
      ]
     },
     "execution_count": 23,
     "metadata": {},
     "output_type": "execute_result"
    }
   ],
   "source": [
    "mfcc_test.shape"
   ]
  },
  {
   "cell_type": "markdown",
   "id": "d64110e6",
   "metadata": {},
   "source": [
    "# Indeed the size of the scores array is the same "
   ]
  },
  {
   "cell_type": "code",
   "execution_count": 24,
   "id": "e793c874",
   "metadata": {},
   "outputs": [
    {
     "data": {
      "text/plain": [
       "(225542,)"
      ]
     },
     "execution_count": 24,
     "metadata": {},
     "output_type": "execute_result"
    }
   ],
   "source": [
    " scores[0].shape"
   ]
  },
  {
   "cell_type": "markdown",
   "id": "a199e421",
   "metadata": {},
   "source": [
    "# In order to compare between the different GMM Models we need to calculate the score for the hole test set and we can do that by calculating the mean of the individual scores"
   ]
  },
  {
   "cell_type": "code",
   "execution_count": 25,
   "id": "bddb6015",
   "metadata": {},
   "outputs": [
    {
     "name": "stdout",
     "output_type": "stream",
     "text": [
      "GMM16 score: -51.11258997784318\n",
      "GMM32 score: -50.57705356323497\n",
      "GMM64 score: -50.134347905608536\n",
      "GMM128 score: -49.77759126955424\n",
      "GMM256 score: -49.4703993942409\n",
      "GMM512 score: -49.219307871347034\n"
     ]
    }
   ],
   "source": [
    "#calculationg the score of the hole test set\n",
    "print('GMM16 score:', scores[0].mean())\n",
    "print('GMM32 score:', scores[1].mean())\n",
    "print('GMM64 score:', scores[2].mean())\n",
    "print('GMM128 score:', scores[3].mean())\n",
    "print('GMM256 score:', scores[4].mean())\n",
    "print('GMM512 score:', scores[5].mean())\n"
   ]
  },
  {
   "cell_type": "markdown",
   "id": "3fc3e080",
   "metadata": {},
   "source": [
    "### From the results above we can see that the best score (the closest one to 0) is given by the model using 512 gaussians "
   ]
  }
 ],
 "metadata": {
  "kernelspec": {
   "display_name": "Python 3 (ipykernel)",
   "language": "python",
   "name": "python3"
  },
  "language_info": {
   "codemirror_mode": {
    "name": "ipython",
    "version": 3
   },
   "file_extension": ".py",
   "mimetype": "text/x-python",
   "name": "python",
   "nbconvert_exporter": "python",
   "pygments_lexer": "ipython3",
   "version": "3.10.9"
  }
 },
 "nbformat": 4,
 "nbformat_minor": 5
}
